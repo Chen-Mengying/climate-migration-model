{
 "cells": [
  {
   "cell_type": "markdown",
   "id": "4948ba74",
   "metadata": {},
   "source": [
    "这里对于边境摩擦的计算，有两种方法：直接利用dist cepii数据集，dummy的方法计算\n",
    "1 将所有变量都纳入模型中\n",
    "2 将变量整合成一个变量（border）再纳入模型\n"
   ]
  },
  {
   "cell_type": "code",
   "execution_count": 3,
   "id": "6652c735",
   "metadata": {},
   "outputs": [
    {
     "name": "stdout",
     "output_type": "stream",
     "text": [
      "所有sheet名： ['dist_cepii']\n",
      "列名： ['iso_o', 'iso_d', 'contig', 'comlang_off', 'comlang_ethno', 'colony', 'comcol', 'curcol', 'col45', 'smctry', 'dist', 'distcap', 'distw', 'distwces']\n",
      "列名： ['iso_o', 'iso_d', 'contig', 'comlang_off', 'comlang_ethno', 'colony', 'comcol', 'curcol', 'col45', 'smctry', 'dist', 'distcap', 'distw', 'distwces']\n"
     ]
    }
   ],
   "source": [
    "import pandas as pd\n",
    "\n",
    "# 查看所有 sheet 名\n",
    "xls = pd.ExcelFile(r'../data/raw/dist_cepii/dist_cepii.xls')\n",
    "print(\"所有sheet名：\", xls.sheet_names)\n",
    "\n",
    "# 读取主 sheet（通常是第一个）\n",
    "df = pd.read_excel(xls, sheet_name=xls.sheet_names[0])\n",
    "\n",
    "# 显示所有列名\n",
    "print(\"列名：\", df.columns.tolist())\n"
   ]
  },
  {
   "cell_type": "code",
   "execution_count": 10,
   "id": "a76e7e03",
   "metadata": {},
   "outputs": [],
   "source": [
    "# 筛选我们需要的列\n",
    "df_border = df[['iso_o', 'iso_d', 'contig', 'comlang_off', 'colony']].copy()\n",
    "\n",
    "df_border['border_friction'] = 1 - (\n",
    "    0.4 * df_border['contig'] +\n",
    "    0.3 * df_border['comlang_off'] +\n",
    "    0.3 * df_border['colony']\n",
    ")"
   ]
  },
  {
   "cell_type": "markdown",
   "id": "b86963e3",
   "metadata": {},
   "source": [
    "这里先尝试用PCA，"
   ]
  },
  {
   "cell_type": "code",
   "execution_count": 16,
   "id": "63a7f200",
   "metadata": {},
   "outputs": [
    {
     "name": "stdout",
     "output_type": "stream",
     "text": [
      "PCA主成分权重（载荷）：\n",
      "contig: 0.5279\n",
      "comlang_off: 0.5953\n",
      "colony: 0.6058\n"
     ]
    }
   ],
   "source": [
    "import pandas as pd\n",
    "from sklearn.preprocessing import StandardScaler\n",
    "from sklearn.decomposition import PCA\n",
    "\n",
    "# 示例：加载你自己的 DataFrame\n",
    "# df = pd.read_csv(\"your_cepii_subset.csv\")\n",
    "\n",
    "# 确保变量存在\n",
    "variables = ['contig', 'comlang_off', 'colony']\n",
    "assert all(v in df.columns for v in variables), \"缺少必要列\"\n",
    "\n",
    "# 1. 标准化变量（Z-score）\n",
    "X = df[variables]\n",
    "scaler = StandardScaler()\n",
    "X_scaled = scaler.fit_transform(X)\n",
    "X_scaled = StandardScaler().fit_transform(X)\n",
    "\n",
    "\n",
    "# 2. PCA主成分分析（只保留第一个主成分）\n",
    "pca = PCA(n_components=1)\n",
    "pc = pca.fit_transform(X_scaled)\n",
    "\n",
    "# 3. 添加到原始 DataFrame\n",
    "df['openness_score'] = pc\n",
    "\n",
    "# 4. 归一化（0~1之间）\n",
    "df['openness_score'] = (df['openness_score'] - df['openness_score'].min()) / (\n",
    "    df['openness_score'].max() - df['openness_score'].min()\n",
    ")\n",
    "\n",
    "# 5. 构造边境摩擦变量（反向）\n",
    "df['border_friction'] = 1 - df['openness_score']\n",
    "\n",
    "# ✅ 现在你可以使用 df[\"border_friction\"] 作为回归的解释变量了\n",
    "\n",
    "# 查看主成分载荷（权重）\n",
    "print(\"PCA主成分权重（载荷）：\")\n",
    "for var, coef in zip(['contig', 'comlang_off', 'colony'], pca.components_[0]):\n",
    "    print(f\"{var}: {coef:.4f}\")\n"
   ]
  },
  {
   "cell_type": "code",
   "execution_count": 34,
   "id": "350fc38d",
   "metadata": {},
   "outputs": [
    {
     "name": "stdout",
     "output_type": "stream",
     "text": [
      "[0.39590488 0.30927251 0.29482261]\n"
     ]
    }
   ],
   "source": [
    "from sklearn.decomposition import PCA\n",
    "\n",
    "pca = PCA()\n",
    "pca.fit(X_scaled)\n",
    "print(pca.explained_variance_ratio_)\n"
   ]
  },
  {
   "cell_type": "markdown",
   "id": "d83c7e6f",
   "metadata": {},
   "source": [
    "结果显示第一主成分解释的方差只有不到40%，不太合适，所以使用等权重法"
   ]
  },
  {
   "cell_type": "code",
   "execution_count": 36,
   "id": "e7b5a625",
   "metadata": {},
   "outputs": [
    {
     "name": "stdout",
     "output_type": "stream",
     "text": [
      "已保存边境摩擦面板 border_friction_panel_ew.csv\n"
     ]
    }
   ],
   "source": [
    "import pandas as pd\n",
    "\n",
    "# 假设df已包含contig, comlang_off, colony三列\n",
    "df_border = df[['iso_o', 'iso_d', 'contig', 'comlang_off', 'colony']].copy()\n",
    "\n",
    "# 等权重法：每项权重1/3\n",
    "df_border['border_friction'] = 1 - (\n",
    "    (df_border['contig'] + df_border['comlang_off'] + df_border['colony']) / 3\n",
    ")\n",
    "\n",
    "# 可选：保存结果\n",
    "df_border.to_csv('../data/processed/border_friction_panel_ew.csv', index=False)\n",
    "print(\"已保存边境摩擦面板 border_friction_panel_ew.csv\")"
   ]
  },
  {
   "cell_type": "code",
   "execution_count": 37,
   "id": "f7132a0f",
   "metadata": {},
   "outputs": [
    {
     "name": "stdout",
     "output_type": "stream",
     "text": [
      "count    50176.000000\n",
      "mean         0.934577\n",
      "std          0.142448\n",
      "min          0.000000\n",
      "25%          1.000000\n",
      "50%          1.000000\n",
      "75%          1.000000\n",
      "max          1.000000\n",
      "Name: border_friction, dtype: float64\n",
      "缺失值数量： 0\n",
      "最小值对应的国家对：\n",
      "      iso_o iso_d  contig  comlang_off  colony  border_friction\n",
      "13165   EGY   SDN       1            1       1              0.0\n",
      "13561   ESH   MAR       1            1       1              0.0\n",
      "14523   FIN   SWE       1            1       1              0.0\n",
      "15997   GBR   IRL       1            1       1              0.0\n",
      "20903   IRL   GBR       1            1       1              0.0\n",
      "23018   KAZ   RUS       1            1       1              0.0\n",
      "27164   MAR   ESH       1            1       1              0.0\n",
      "31580   NAM   ZAF       1            1       1              0.0\n",
      "38182   RUS   KAZ       1            1       1              0.0\n",
      "38810   SDN   EGY       1            1       1              0.0\n",
      "41952   SWE   FIN       1            1       1              0.0\n",
      "49420   ZAF   NAM       1            1       1              0.0\n",
      "最大值对应的国家对：\n",
      "      iso_o iso_d  contig  comlang_off  colony  border_friction\n",
      "0       ABW   ABW       0            0       0              1.0\n",
      "1       ABW   AFG       0            0       0              1.0\n",
      "2       ABW   AGO       0            0       0              1.0\n",
      "3       ABW   AIA       0            0       0              1.0\n",
      "4       ABW   ALB       0            0       0              1.0\n",
      "...     ...   ...     ...          ...     ...              ...\n",
      "50168   ZWE   WLF       0            0       0              1.0\n",
      "50170   ZWE   YEM       0            0       0              1.0\n",
      "50171   ZWE   YUG       0            0       0              1.0\n",
      "50173   ZWE   ZAR       0            0       0              1.0\n",
      "50175   ZWE   ZWE       0            0       0              1.0\n",
      "\n",
      "[40940 rows x 6 columns]\n"
     ]
    },
    {
     "data": {
      "image/png": "[encoded data removed]",
      "text/plain": [
       "<Figure size 640x480 with 1 Axes>"
      ]
     },
     "metadata": {},
     "output_type": "display_data"
    }
   ],
   "source": [
    "import pandas as pd\n",
    "import matplotlib.pyplot as plt\n",
    "\n",
    "# 读取结果\n",
    "df_border = pd.read_csv('../data/processed/border_friction_panel_ew.csv')\n",
    "\n",
    "# 1. 基本统计\n",
    "print(df_border['border_friction'].describe())\n",
    "print(\"缺失值数量：\", df_border['border_friction'].isnull().sum())\n",
    "\n",
    "# 2. 查看极值\n",
    "print(\"最小值对应的国家对：\")\n",
    "print(df_border[df_border['border_friction'] == df_border['border_friction'].min()])\n",
    "print(\"最大值对应的国家对：\")\n",
    "print(df_border[df_border['border_friction'] == df_border['border_friction'].max()])\n",
    "\n",
    "# 3. 分布直方图\n",
    "plt.hist(df_border['border_friction'], bins=20)\n",
    "plt.xlabel('Border Friction')\n",
    "plt.ylabel('Count')\n",
    "plt.title('Distribution of Border Friction (Equal Weight)')\n",
    "plt.show()"
   ]
  }
 ],
 "metadata": {
  "kernelspec": {
   "display_name": "Python 3",
   "language": "python",
   "name": "python3"
  },
  "language_info": {
   "codemirror_mode": {
    "name": "ipython",
    "version": 3
   },
   "file_extension": ".py",
   "mimetype": "text/x-python",
   "name": "python",
   "nbconvert_exporter": "python",
   "pygments_lexer": "ipython3",
   "version": "3.11.8"
  }
 },
 "nbformat": 4,
 "nbformat_minor": 5
}
