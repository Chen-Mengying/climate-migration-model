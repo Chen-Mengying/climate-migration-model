{
 "cells": [
  {
   "cell_type": "markdown",
   "id": "5f82131d",
   "metadata": {},
   "source": [
    "这是用来测试计算Market Access部分的代码"
   ]
  },
  {
   "cell_type": "code",
   "execution_count": 18,
   "id": "deca3011",
   "metadata": {},
   "outputs": [
    {
     "name": "stdout",
     "output_type": "stream",
     "text": [
      "                          Country Name Country Code  Indicator Code  \\\n",
      "515        Africa Eastern and Southern          AFE  NY.GDP.MKTP.CD   \n",
      "2031        Africa Western and Central          AFW  NY.GDP.MKTP.CD   \n",
      "3547                        Arab World          ARB  NY.GDP.MKTP.CD   \n",
      "5063            Caribbean small states          CSS  NY.GDP.MKTP.CD   \n",
      "6579    Central Europe and the Baltics          CEB  NY.GDP.MKTP.CD   \n",
      "...                                ...          ...             ...   \n",
      "396191           Virgin Islands (U.S.)          VIR  NY.GDP.MKTP.CD   \n",
      "397707              West Bank and Gaza          PSE  NY.GDP.MKTP.CD   \n",
      "399223                     Yemen, Rep.          YEM  NY.GDP.MKTP.CD   \n",
      "400739                          Zambia          ZMB  NY.GDP.MKTP.CD   \n",
      "402255                        Zimbabwe          ZWE  NY.GDP.MKTP.CD   \n",
      "\n",
      "                2019          2020          2021          2022  \n",
      "515     1.009747e+12  9.334072e+11  1.085605e+12  1.191639e+12  \n",
      "2031    8.332889e+11  7.972952e+11  8.581145e+11  8.936399e+11  \n",
      "3547    2.949355e+12  2.596423e+12  3.077907e+12  3.738584e+12  \n",
      "5063    6.192930e+10  5.318055e+10  6.196171e+10  7.805458e+10  \n",
      "6579    1.686042e+12  1.679770e+12  1.927940e+12  1.956274e+12  \n",
      "...              ...           ...           ...           ...  \n",
      "396191  4.121000e+09  4.229000e+09  4.507000e+09  4.672000e+09  \n",
      "397707  1.713350e+10  1.553170e+10  1.810900e+10  1.916550e+10  \n",
      "399223           NaN           NaN           NaN           NaN  \n",
      "400739  2.330867e+10  1.813776e+10  2.209642e+10  2.916378e+10  \n",
      "402255  2.571566e+10  2.686856e+10  2.724051e+10  3.278966e+10  \n",
      "\n",
      "[266 rows x 7 columns]\n"
     ]
    }
   ],
   "source": [
    "import pandas as pd\n",
    "\n",
    "# 读取主数据文件（如 WDICSV.csv 或 WDICountry.csv，具体看你的数据结构）\n",
    "df = pd.read_csv('../data/raw/WDI_CSV_2025_07_02/WDICSV.csv')\n",
    "\n",
    "# 只保留NY.GDP.MKTP.CD相关数据\n",
    "gdp_df = df[df['Indicator Code'] == 'NY.GDP.MKTP.CD']\n",
    "\n",
    "# 可选：筛选年份范围（如2019-2022）\n",
    "years = [str(y) for y in range(2019, 2023)]\n",
    "cols = ['Country Name', 'Country Code', 'Indicator Code'] + years\n",
    "gdp_panel = gdp_df[cols]\n",
    "\n",
    "# 输出结果\n",
    "print(gdp_panel)\n",
    "\n",
    "# 保存为csv\n",
    "gdp_panel.to_csv('../data/processed/gdp_country_year_2019_2022.csv', index=False)"
   ]
  },
  {
   "cell_type": "code",
   "execution_count": null,
   "id": "2d7396cb",
   "metadata": {},
   "outputs": [],
   "source": []
  }
 ],
 "metadata": {
  "kernelspec": {
   "display_name": "Python 3",
   "language": "python",
   "name": "python3"
  },
  "language_info": {
   "codemirror_mode": {
    "name": "ipython",
    "version": 3
   },
   "file_extension": ".py",
   "mimetype": "text/x-python",
   "name": "python",
   "nbconvert_exporter": "python",
   "pygments_lexer": "ipython3",
   "version": "3.11.8"
  }
 },
 "nbformat": 4,
 "nbformat_minor": 5
}
