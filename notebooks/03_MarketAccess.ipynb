{
 "cells": [
  {
   "cell_type": "markdown",
   "id": "5f82131d",
   "metadata": {},
   "source": [
    "这是用来测试计算Market Access部分的代码"
   ]
  },
  {
   "cell_type": "code",
   "execution_count": 7,
   "id": "deca3011",
   "metadata": {},
   "outputs": [
    {
     "name": "stdout",
     "output_type": "stream",
     "text": [
      "                          Country Name Country Code  Indicator Code  \\\n",
      "515        Africa Eastern and Southern          AFE  NY.GDP.MKTP.CD   \n",
      "2031        Africa Western and Central          AFW  NY.GDP.MKTP.CD   \n",
      "3547                        Arab World          ARB  NY.GDP.MKTP.CD   \n",
      "5063            Caribbean small states          CSS  NY.GDP.MKTP.CD   \n",
      "6579    Central Europe and the Baltics          CEB  NY.GDP.MKTP.CD   \n",
      "...                                ...          ...             ...   \n",
      "396191           Virgin Islands (U.S.)          VIR  NY.GDP.MKTP.CD   \n",
      "397707              West Bank and Gaza          PSE  NY.GDP.MKTP.CD   \n",
      "399223                     Yemen, Rep.          YEM  NY.GDP.MKTP.CD   \n",
      "400739                          Zambia          ZMB  NY.GDP.MKTP.CD   \n",
      "402255                        Zimbabwe          ZWE  NY.GDP.MKTP.CD   \n",
      "\n",
      "                2019          2020          2021          2022  \n",
      "515     1.009747e+12  9.334072e+11  1.085605e+12  1.191639e+12  \n",
      "2031    8.332889e+11  7.972952e+11  8.581145e+11  8.936399e+11  \n",
      "3547    2.949355e+12  2.596423e+12  3.077907e+12  3.738584e+12  \n",
      "5063    6.192930e+10  5.318055e+10  6.196171e+10  7.805458e+10  \n",
      "6579    1.686042e+12  1.679770e+12  1.927940e+12  1.956274e+12  \n",
      "...              ...           ...           ...           ...  \n",
      "396191  4.121000e+09  4.229000e+09  4.507000e+09  4.672000e+09  \n",
      "397707  1.713350e+10  1.553170e+10  1.810900e+10  1.916550e+10  \n",
      "399223           NaN           NaN           NaN           NaN  \n",
      "400739  2.330867e+10  1.813776e+10  2.209642e+10  2.916378e+10  \n",
      "402255  2.571566e+10  2.686856e+10  2.724051e+10  3.278966e+10  \n",
      "\n",
      "[266 rows x 7 columns]\n"
     ]
    }
   ],
   "source": [
    "import pandas as pd\n",
    "\n",
    "# 读取主数据文件（如 WDICSV.csv 或 WDICountry.csv，具体看你的数据结构）\n",
    "df = pd.read_csv('../data/raw/WDI_CSV_2025_07_02/WDICSV.csv')\n",
    "\n",
    "# 只保留NY.GDP.MKTP.CD相关数据\n",
    "gdp_df = df[df['Indicator Code'] == 'NY.GDP.MKTP.CD']\n",
    "\n",
    "# 可选：筛选年份范围（如2019-2022）\n",
    "years = [str(y) for y in range(2019, 2023)]\n",
    "cols = ['Country Name', 'Country Code', 'Indicator Code'] + years\n",
    "gdp_panel = gdp_df[cols]\n",
    "\n",
    "# 输出结果\n",
    "print(gdp_panel)\n",
    "\n",
    "# 保存为csv\n",
    "gdp_panel.to_csv('../data/processed/gdp_country_year_2019_2022.csv', index=False)"
   ]
  },
  {
   "cell_type": "markdown",
   "id": "e7b60ae8",
   "metadata": {},
   "source": [
    "现在需要把表格改成我们希望的结构"
   ]
  },
  {
   "cell_type": "code",
   "execution_count": 8,
   "id": "2d7396cb",
   "metadata": {},
   "outputs": [
    {
     "name": "stdout",
     "output_type": "stream",
     "text": [
      "  iso3  year           gdp\n",
      "0  AFE  2019  1.009747e+12\n",
      "1  AFW  2019  8.332889e+11\n",
      "2  ARB  2019  2.949355e+12\n",
      "3  CSS  2019  6.192930e+10\n",
      "4  CEB  2019  1.686042e+12\n"
     ]
    }
   ],
   "source": [
    "import pandas as pd\n",
    "\n",
    "# 读取数据\n",
    "df = pd.read_csv('../data/processed/gdp_country_year_2019_2022.csv')\n",
    "\n",
    "# 只保留NY.GDP.MKTP.CD指标\n",
    "df = df[df['Indicator Code'] == 'NY.GDP.MKTP.CD']\n",
    "\n",
    "# 选择需要的年份\n",
    "years = ['2019', '2020', '2021', '2022']  # 可自定义年份\n",
    "df_long = df.melt(\n",
    "    id_vars=['Country Code'],\n",
    "    value_vars=years,\n",
    "    var_name='year',\n",
    "    value_name='gdp'\n",
    ")\n",
    "\n",
    "# 重命名列\n",
    "df_long = df_long.rename(columns={'Country Code': 'iso3'})\n",
    "\n",
    "# 输出结果\n",
    "print(df_long.head())\n",
    "df_long.to_csv('../data/processed/gdp_country_year_2019_2022_cleaned.csv', index=False)"
   ]
  },
  {
   "cell_type": "markdown",
   "id": "0e35b64b",
   "metadata": {},
   "source": [
    "现在来检查一下数据质量"
   ]
  },
  {
   "cell_type": "code",
   "execution_count": 4,
   "id": "d92e2bfa",
   "metadata": {},
   "outputs": [
    {
     "name": "stdout",
     "output_type": "stream",
     "text": [
      "数据行数和列数: (1064, 3)\n",
      "列名: ['iso3', 'year', 'gdp']\n",
      "前5行:\n",
      "   iso3  year           gdp\n",
      "0  AFE  2019  1.009747e+12\n",
      "1  AFW  2019  8.332889e+11\n",
      "2  ARB  2019  2.949355e+12\n",
      "3  CSS  2019  6.192930e+10\n",
      "4  CEB  2019  1.686042e+12\n",
      "\n",
      "数据类型和统计信息:\n",
      "<class 'pandas.core.frame.DataFrame'>\n",
      "RangeIndex: 1064 entries, 0 to 1063\n",
      "Data columns (total 3 columns):\n",
      " #   Column  Non-Null Count  Dtype  \n",
      "---  ------  --------------  -----  \n",
      " 0   iso3    1064 non-null   object \n",
      " 1   year    1064 non-null   int64  \n",
      " 2   gdp     1028 non-null   float64\n",
      "dtypes: float64(1), int64(1), object(1)\n",
      "memory usage: 25.1+ KB\n"
     ]
    },
    {
     "data": {
      "text/plain": [
       "count    1.028000e+03\n",
       "mean     3.008484e+12\n",
       "std      1.025125e+13\n",
       "min      5.174659e+07\n",
       "25%      1.029698e+10\n",
       "50%      6.119920e+10\n",
       "75%      6.034914e+11\n",
       "max      1.024349e+14\n",
       "Name: gdp, dtype: float64"
      ]
     },
     "metadata": {},
     "output_type": "display_data"
    },
    {
     "name": "stdout",
     "output_type": "stream",
     "text": [
      "\n",
      "每列缺失值数量:\n"
     ]
    },
    {
     "data": {
      "text/plain": [
       "iso3     0\n",
       "year     0\n",
       "gdp     36\n",
       "dtype: int64"
      ]
     },
     "metadata": {},
     "output_type": "display_data"
    },
    {
     "data": {
      "text/plain": [
       "'\\n重复行数: 0'"
      ]
     },
     "metadata": {},
     "output_type": "display_data"
    },
    {
     "name": "stdout",
     "output_type": "stream",
     "text": [
      "\n",
      "GDP为负或者极大的行:\n"
     ]
    },
    {
     "data": {
      "text/html": [
       "<div>\n",
       "<style scoped>\n",
       "    .dataframe tbody tr th:only-of-type {\n",
       "        vertical-align: middle;\n",
       "    }\n",
       "\n",
       "    .dataframe tbody tr th {\n",
       "        vertical-align: top;\n",
       "    }\n",
       "\n",
       "    .dataframe thead th {\n",
       "        text-align: right;\n",
       "    }\n",
       "</style>\n",
       "<table border=\"1\" class=\"dataframe\">\n",
       "  <thead>\n",
       "    <tr style=\"text-align: right;\">\n",
       "      <th></th>\n",
       "      <th>iso3</th>\n",
       "      <th>year</th>\n",
       "      <th>gdp</th>\n",
       "    </tr>\n",
       "  </thead>\n",
       "  <tbody>\n",
       "  </tbody>\n",
       "</table>\n",
       "</div>"
      ],
      "text/plain": [
       "Empty DataFrame\n",
       "Columns: [iso3, year, gdp]\n",
       "Index: []"
      ]
     },
     "metadata": {},
     "output_type": "display_data"
    },
    {
     "data": {
      "text/html": [
       "<div>\n",
       "<style scoped>\n",
       "    .dataframe tbody tr th:only-of-type {\n",
       "        vertical-align: middle;\n",
       "    }\n",
       "\n",
       "    .dataframe tbody tr th {\n",
       "        vertical-align: top;\n",
       "    }\n",
       "\n",
       "    .dataframe thead th {\n",
       "        text-align: right;\n",
       "    }\n",
       "</style>\n",
       "<table border=\"1\" class=\"dataframe\">\n",
       "  <thead>\n",
       "    <tr style=\"text-align: right;\">\n",
       "      <th></th>\n",
       "      <th>iso3</th>\n",
       "      <th>year</th>\n",
       "      <th>gdp</th>\n",
       "    </tr>\n",
       "  </thead>\n",
       "  <tbody>\n",
       "    <tr>\n",
       "      <th>846</th>\n",
       "      <td>WLD</td>\n",
       "      <td>2022</td>\n",
       "      <td>1.024349e+14</td>\n",
       "    </tr>\n",
       "    <tr>\n",
       "      <th>580</th>\n",
       "      <td>WLD</td>\n",
       "      <td>2021</td>\n",
       "      <td>9.836575e+13</td>\n",
       "    </tr>\n",
       "    <tr>\n",
       "      <th>48</th>\n",
       "      <td>WLD</td>\n",
       "      <td>2019</td>\n",
       "      <td>8.849239e+13</td>\n",
       "    </tr>\n",
       "    <tr>\n",
       "      <th>314</th>\n",
       "      <td>WLD</td>\n",
       "      <td>2020</td>\n",
       "      <td>8.611657e+13</td>\n",
       "    </tr>\n",
       "    <tr>\n",
       "      <th>814</th>\n",
       "      <td>HIC</td>\n",
       "      <td>2022</td>\n",
       "      <td>6.524866e+13</td>\n",
       "    </tr>\n",
       "  </tbody>\n",
       "</table>\n",
       "</div>"
      ],
      "text/plain": [
       "    iso3  year           gdp\n",
       "846  WLD  2022  1.024349e+14\n",
       "580  WLD  2021  9.836575e+13\n",
       "48   WLD  2019  8.849239e+13\n",
       "314  WLD  2020  8.611657e+13\n",
       "814  HIC  2022  6.524866e+13"
      ]
     },
     "metadata": {},
     "output_type": "display_data"
    }
   ],
   "source": [
    "# 读取长表格式的GDP数据\n",
    "df = pd.read_csv('../data/processed/gdp_country_year_2019_2022_cleaned.csv')\n",
    "\n",
    "# 查看基本信息\n",
    "print(\"数据行数和列数:\", df.shape)\n",
    "print(\"列名:\", df.columns.tolist())\n",
    "print(\"前5行:\\n\", df.head())\n",
    "\n",
    "# 检查数据类型和基本统计信息\n",
    "print(\"\\n数据类型和统计信息:\")\n",
    "df.info()\n",
    "display(df['gdp'].describe())\n",
    "\n",
    "# 检查缺失值\n",
    "print(\"\\n每列缺失值数量:\")\n",
    "display(df.isnull().sum())\n",
    "\n",
    "# 检查iso3是否有重复（同一年同国家是否唯一）\n",
    "dup = df.duplicated(subset=['iso3', 'year'])\n",
    "display(f\"\\n重复行数: {dup.sum()}\")\n",
    "\n",
    "# 检查gdp是否有负值或异常\n",
    "print(\"\\nGDP为负或者极大的行:\")\n",
    "display(df[df['gdp'] <= 0])\n",
    "display(df.sort_values('gdp', ascending=False).head(5))"
   ]
  },
  {
   "cell_type": "code",
   "execution_count": null,
   "id": "db40ccd3",
   "metadata": {},
   "outputs": [
    {
     "name": "stdout",
     "output_type": "stream",
     "text": [
      "🔍 缺失 GDP 的记录数: 36\n"
     ]
    },
    {
     "data": {
      "text/html": [
       "<div>\n",
       "<style scoped>\n",
       "    .dataframe tbody tr th:only-of-type {\n",
       "        vertical-align: middle;\n",
       "    }\n",
       "\n",
       "    .dataframe tbody tr th {\n",
       "        vertical-align: top;\n",
       "    }\n",
       "\n",
       "    .dataframe thead th {\n",
       "        text-align: right;\n",
       "    }\n",
       "</style>\n",
       "<table border=\"1\" class=\"dataframe\">\n",
       "  <thead>\n",
       "    <tr style=\"text-align: right;\">\n",
       "      <th></th>\n",
       "      <th>iso3</th>\n",
       "      <th>缺失年份</th>\n",
       "    </tr>\n",
       "  </thead>\n",
       "  <tbody>\n",
       "    <tr>\n",
       "      <th>0</th>\n",
       "      <td>CUB</td>\n",
       "      <td>[2021, 2022]</td>\n",
       "    </tr>\n",
       "    <tr>\n",
       "      <th>1</th>\n",
       "      <td>ERI</td>\n",
       "      <td>[2019, 2020, 2021, 2022]</td>\n",
       "    </tr>\n",
       "    <tr>\n",
       "      <th>2</th>\n",
       "      <td>GIB</td>\n",
       "      <td>[2019, 2020, 2021, 2022]</td>\n",
       "    </tr>\n",
       "    <tr>\n",
       "      <th>3</th>\n",
       "      <td>INX</td>\n",
       "      <td>[2019, 2020, 2021, 2022]</td>\n",
       "    </tr>\n",
       "    <tr>\n",
       "      <th>4</th>\n",
       "      <td>MAF</td>\n",
       "      <td>[2020, 2022]</td>\n",
       "    </tr>\n",
       "    <tr>\n",
       "      <th>5</th>\n",
       "      <td>PRK</td>\n",
       "      <td>[2019, 2020, 2021, 2022]</td>\n",
       "    </tr>\n",
       "    <tr>\n",
       "      <th>6</th>\n",
       "      <td>SSD</td>\n",
       "      <td>[2019, 2020, 2021, 2022]</td>\n",
       "    </tr>\n",
       "    <tr>\n",
       "      <th>7</th>\n",
       "      <td>VEN</td>\n",
       "      <td>[2019, 2020, 2021, 2022]</td>\n",
       "    </tr>\n",
       "    <tr>\n",
       "      <th>8</th>\n",
       "      <td>VGB</td>\n",
       "      <td>[2019, 2020, 2021, 2022]</td>\n",
       "    </tr>\n",
       "    <tr>\n",
       "      <th>9</th>\n",
       "      <td>YEM</td>\n",
       "      <td>[2019, 2020, 2021, 2022]</td>\n",
       "    </tr>\n",
       "  </tbody>\n",
       "</table>\n",
       "</div>"
      ],
      "text/plain": [
       "  iso3                      缺失年份\n",
       "0  CUB              [2021, 2022]\n",
       "1  ERI  [2019, 2020, 2021, 2022]\n",
       "2  GIB  [2019, 2020, 2021, 2022]\n",
       "3  INX  [2019, 2020, 2021, 2022]\n",
       "4  MAF              [2020, 2022]\n",
       "5  PRK  [2019, 2020, 2021, 2022]\n",
       "6  SSD  [2019, 2020, 2021, 2022]\n",
       "7  VEN  [2019, 2020, 2021, 2022]\n",
       "8  VGB  [2019, 2020, 2021, 2022]\n",
       "9  YEM  [2019, 2020, 2021, 2022]"
      ]
     },
     "metadata": {},
     "output_type": "display_data"
    }
   ],
   "source": [
    "missing_gdp = df[df['gdp'].isnull()]\n",
    "print(\"🔍 缺失 GDP 的记录数:\", len(missing_gdp))\n",
    "# 看看缺失值集中在哪些国家和年份\n",
    "display(missing_gdp.groupby('iso3')['year'].apply(list).reset_index(name='缺失年份'))\n"
   ]
  },
  {
   "cell_type": "code",
   "execution_count": 6,
   "id": "86a5d2a7",
   "metadata": {},
   "outputs": [
    {
     "name": "stdout",
     "output_type": "stream",
     "text": [
      "GDP缺失国家在migration数据中作为origin出现的有： ['ERI' 'SSD' 'VEN' 'YEM']\n",
      "GDP缺失国家在migration数据中作为destination出现的有： ['ERI' 'SSD' 'VEN' 'YEM']\n"
     ]
    }
   ],
   "source": [
    "import pandas as pd\n",
    "\n",
    "# 读取GDP缺失国家列表\n",
    "missing_gdp = pd.read_csv('../data/processed/gdp_country_year_2019_2022_cleaned.csv')\n",
    "missing_iso3 = missing_gdp[missing_gdp['gdp'].isnull()]['iso3'].unique()\n",
    "\n",
    "# 读取migration数据（假设有iso3字段，或origin/destination字段）\n",
    "migration = pd.read_csv('../data/processed/migration_flow_cleaned.csv')\n",
    "\n",
    "# 检查这些国家是否在迁移流数据中出现\n",
    "in_origin = migration['origin'].isin(missing_iso3)\n",
    "in_dest = migration['destination'].isin(missing_iso3)\n",
    "\n",
    "# 输出结果\n",
    "print(\"GDP缺失国家在migration数据中作为origin出现的有：\", migration.loc[in_origin, 'origin'].unique())\n",
    "print(\"GDP缺失国家在migration数据中作为destination出现的有：\", migration.loc[in_dest, 'destination'].unique())"
   ]
  },
  {
   "cell_type": "markdown",
   "id": "cc011699",
   "metadata": {},
   "source": [
    "然后开始整理CEPII数据"
   ]
  },
  {
   "cell_type": "code",
   "execution_count": 9,
   "id": "34ae4864",
   "metadata": {},
   "outputs": [
    {
     "name": "stderr",
     "output_type": "stream",
     "text": [
      "C:\\Users\\cmy\\AppData\\Local\\Temp\\ipykernel_26768\\81001340.py:12: SettingWithCopyWarning: \n",
      "A value is trying to be set on a copy of a slice from a DataFrame.\n",
      "Try using .loc[row_indexer,col_indexer] = value instead\n",
      "\n",
      "See the caveats in the documentation: https://pandas.pydata.org/pandas-docs/stable/user_guide/indexing.html#returning-a-view-versus-a-copy\n",
      "  df_dist['distw'] = pd.to_numeric(df_dist['distw'], errors='coerce')\n"
     ]
    },
    {
     "data": {
      "text/plain": [
       "iso_o     object\n",
       "iso_d     object\n",
       "distw    float64\n",
       "dtype: object"
      ]
     },
     "metadata": {},
     "output_type": "display_data"
    },
    {
     "data": {
      "text/html": [
       "<div>\n",
       "<style scoped>\n",
       "    .dataframe tbody tr th:only-of-type {\n",
       "        vertical-align: middle;\n",
       "    }\n",
       "\n",
       "    .dataframe tbody tr th {\n",
       "        vertical-align: top;\n",
       "    }\n",
       "\n",
       "    .dataframe thead th {\n",
       "        text-align: right;\n",
       "    }\n",
       "</style>\n",
       "<table border=\"1\" class=\"dataframe\">\n",
       "  <thead>\n",
       "    <tr style=\"text-align: right;\">\n",
       "      <th></th>\n",
       "      <th>iso_o</th>\n",
       "      <th>iso_d</th>\n",
       "      <th>distw</th>\n",
       "    </tr>\n",
       "  </thead>\n",
       "  <tbody>\n",
       "    <tr>\n",
       "      <th>0</th>\n",
       "      <td>ABW</td>\n",
       "      <td>ABW</td>\n",
       "      <td>25.09354</td>\n",
       "    </tr>\n",
       "    <tr>\n",
       "      <th>1</th>\n",
       "      <td>ABW</td>\n",
       "      <td>AFG</td>\n",
       "      <td>13168.22000</td>\n",
       "    </tr>\n",
       "    <tr>\n",
       "      <th>2</th>\n",
       "      <td>ABW</td>\n",
       "      <td>AGO</td>\n",
       "      <td>9587.31600</td>\n",
       "    </tr>\n",
       "    <tr>\n",
       "      <th>3</th>\n",
       "      <td>ABW</td>\n",
       "      <td>AIA</td>\n",
       "      <td>976.89740</td>\n",
       "    </tr>\n",
       "    <tr>\n",
       "      <th>4</th>\n",
       "      <td>ABW</td>\n",
       "      <td>ALB</td>\n",
       "      <td>9091.57600</td>\n",
       "    </tr>\n",
       "  </tbody>\n",
       "</table>\n",
       "</div>"
      ],
      "text/plain": [
       "  iso_o iso_d        distw\n",
       "0   ABW   ABW     25.09354\n",
       "1   ABW   AFG  13168.22000\n",
       "2   ABW   AGO   9587.31600\n",
       "3   ABW   AIA    976.89740\n",
       "4   ABW   ALB   9091.57600"
      ]
     },
     "metadata": {},
     "output_type": "display_data"
    }
   ],
   "source": [
    "import pandas as pd\n",
    "\n",
    "# 读取CEPII距离数据（根据实际文件格式选择read_excel或read_csv）\n",
    "df = pd.read_excel('../data/raw/dist_cepii/dist_cepii.xls')  # 或 .csv\n",
    "\n",
    "# 只保留需要的列\n",
    "# 一般CEPII数据的国家代码是 iso_o（origin），iso_d（destination），距离是 distw（加权距离）\n",
    "cols = ['iso_o', 'iso_d', 'distw']\n",
    "df_dist = df[cols]\n",
    "\n",
    "# 强制转换distw为数值型，异常值变为NaN\n",
    "df_dist['distw'] = pd.to_numeric(df_dist['distw'], errors='coerce')\n",
    "\n",
    "# 输出结果\n",
    "display(df_dist.dtypes)\n",
    "display(df_dist.head())\n",
    "\n",
    "# 保存为CSV文件\n",
    "df_dist.to_csv('../data/processed/dist_cepii_cleaned.csv', index=False)"
   ]
  },
  {
   "cell_type": "code",
   "execution_count": 10,
   "id": "73eb5d60",
   "metadata": {},
   "outputs": [
    {
     "name": "stdout",
     "output_type": "stream",
     "text": [
      "数据行数和列数: (50176, 3)\n",
      "列名: ['iso_o', 'iso_d', 'distw']\n",
      "前5行:\n",
      "   iso_o iso_d        distw\n",
      "0   ABW   ABW     25.09354\n",
      "1   ABW   AFG  13168.22000\n",
      "2   ABW   AGO   9587.31600\n",
      "3   ABW   AIA    976.89740\n",
      "4   ABW   ALB   9091.57600\n",
      "\n",
      "每列缺失值数量:\n",
      "iso_o       0\n",
      "iso_d       0\n",
      "distw    2215\n",
      "dtype: int64\n",
      "\n",
      "重复的国家对数量: 0\n",
      "\n",
      "距离统计描述:\n",
      "count    47961.000000\n",
      "mean      8392.728338\n",
      "std       4670.531315\n",
      "min          0.995137\n",
      "25%       4687.852000\n",
      "50%       8006.123000\n",
      "75%      11894.690000\n",
      "max      19781.390000\n",
      "Name: distw, dtype: float64\n"
     ]
    }
   ],
   "source": [
    "# 读取整理后的CEPII距离数据\n",
    "df_dist = pd.read_csv('../data/processed/dist_cepii_cleaned.csv')\n",
    "\n",
    "# 查看基本信息\n",
    "print(\"数据行数和列数:\", df_dist.shape)\n",
    "print(\"列名:\", df_dist.columns.tolist())\n",
    "print(\"前5行:\\n\", df_dist.head())\n",
    "\n",
    "# 检查缺失值\n",
    "print(\"\\n每列缺失值数量:\")\n",
    "print(df_dist.isnull().sum())\n",
    "\n",
    "# 检查是否有重复的国家对\n",
    "dup = df_dist.duplicated(subset=['iso_o', 'iso_d'])\n",
    "print(f\"\\n重复的国家对数量: {dup.sum()}\")\n",
    "\n",
    "# 检查距离的最小值、最大值、分布\n",
    "print(\"\\n距离统计描述:\")\n",
    "print(df_dist['distw'].describe())"
   ]
  },
  {
   "cell_type": "markdown",
   "id": "93d54312",
   "metadata": {},
   "source": [
    "对缺失值的细节了解"
   ]
  },
  {
   "cell_type": "code",
   "execution_count": 11,
   "id": "dd103a6e",
   "metadata": {},
   "outputs": [
    {
     "name": "stdout",
     "output_type": "stream",
     "text": [
      "distw缺失值数量: 2215\n",
      "总记录数: 50176\n",
      "缺失值占比: 4.41%\n"
     ]
    }
   ],
   "source": [
    "total = len(df_dist)\n",
    "missing = df_dist['distw'].isnull().sum()\n",
    "percent = missing / total * 100\n",
    "print(f\"distw缺失值数量: {missing}\")\n",
    "print(f\"总记录数: {total}\")\n",
    "print(f\"缺失值占比: {percent:.2f}%\")"
   ]
  },
  {
   "cell_type": "code",
   "execution_count": 12,
   "id": "8f00b5c9",
   "metadata": {},
   "outputs": [
    {
     "name": "stdout",
     "output_type": "stream",
     "text": [
      "缺失距离的记录数: 2215\n",
      "缺失距离的前几行:\n",
      "     iso_o iso_d  distw\n",
      "34    ABW   CCK    NaN\n",
      "47    ABW   CXR    NaN\n",
      "120   ABW   MAC    NaN\n",
      "135   ABW   MSR    NaN\n",
      "156   ABW   PCN    NaN\n",
      "\n",
      "涉及的origin国家代码: ['ABW' 'AFG' 'AGO' 'AIA' 'ALB' 'AND' 'ANT' 'ARE' 'ARG' 'ARM' 'ATG' 'AUS'\n",
      " 'AUT' 'AZE' 'BDI' 'BEL' 'BEN' 'BFA' 'BGD' 'BGR' 'BHR' 'BHS' 'BIH' 'BLR'\n",
      " 'BLZ' 'BMU' 'BOL' 'BRA' 'BRB' 'BRN' 'BTN' 'BWA' 'CAF' 'CAN' 'CCK' 'CHE'\n",
      " 'CHL' 'CHN' 'CIV' 'CMR' 'COG' 'COK' 'COL' 'COM' 'CPV' 'CRI' 'CUB' 'CXR'\n",
      " 'CYM' 'CYP' 'CZE' 'DEU' 'DJI' 'DMA' 'DNK' 'DOM' 'DZA' 'ECU' 'EGY' 'ERI'\n",
      " 'ESH' 'ESP' 'EST' 'ETH' 'FIN' 'FJI' 'FLK' 'FRA' 'FRO' 'FSM' 'GAB' 'GBR'\n",
      " 'GEO' 'GHA' 'GIB' 'GIN' 'GLP' 'GMB' 'GNB' 'GNQ' 'GRC' 'GRD' 'GRL' 'GTM'\n",
      " 'GUF' 'GUY' 'HKG' 'HND' 'HRV' 'HTI' 'HUN' 'IDN' 'IND' 'IRL' 'IRN' 'IRQ'\n",
      " 'ISL' 'ISR' 'ITA' 'JAM' 'JOR' 'JPN' 'KAZ' 'KEN' 'KGZ' 'KHM' 'KIR' 'KNA'\n",
      " 'KOR' 'KWT' 'LAO' 'LBN' 'LBR' 'LBY' 'LCA' 'LKA' 'LSO' 'LTU' 'LUX' 'LVA'\n",
      " 'MAC' 'MAR' 'MDA' 'MDG' 'MDV' 'MEX' 'MHL' 'MKD' 'MLI' 'MLT' 'MMR' 'MNG'\n",
      " 'MNP' 'MOZ' 'MRT' 'MSR' 'MTQ' 'MUS' 'MWI' 'MYS' 'NAM' 'NCL' 'NER' 'NFK'\n",
      " 'NGA' 'NIC' 'NIU' 'NLD' 'NOR' 'NPL' 'NRU' 'NZL' 'OMN' 'PAK' 'PAL' 'PAN'\n",
      " 'PCN' 'PER' 'PHL' 'PLW' 'PNG' 'POL' 'PRI' 'PRK' 'PRT' 'PRY' 'PYF' 'QAT'\n",
      " 'REU' 'ROM' 'RUS' 'RWA' 'SAU' 'SDN' 'SEN' 'SGP' 'SHN' 'SLB' 'SLE' 'SLV'\n",
      " 'SMR' 'SOM' 'SPM' 'STP' 'SUR' 'SVK' 'SVN' 'SWE' 'SWZ' 'SYC' 'SYR' 'TCA'\n",
      " 'TCD' 'TGO' 'THA' 'TJK' 'TKL' 'TKM' 'TMP' 'TON' 'TTO' 'TUN' 'TUR' 'TUV'\n",
      " 'TWN' 'TZA' 'UGA' 'UKR' 'URY' 'USA' 'UZB' 'VCT' 'VEN' 'VGB' 'VNM' 'VUT'\n",
      " 'WLF' 'WSM' 'YEM' 'YUG' 'ZAF' 'ZAR' 'ZMB' 'ZWE']\n",
      "涉及的destination国家代码: ['CCK' 'CXR' 'MAC' 'MSR' 'PCN' 'ABW' 'AFG' 'AGO' 'AIA' 'ALB' 'AND' 'ANT'\n",
      " 'ARE' 'ARG' 'ARM' 'ATG' 'AUS' 'AUT' 'AZE' 'BDI' 'BEL' 'BEN' 'BFA' 'BGD'\n",
      " 'BGR' 'BHR' 'BHS' 'BIH' 'BLR' 'BLZ' 'BMU' 'BOL' 'BRA' 'BRB' 'BRN' 'BTN'\n",
      " 'BWA' 'CAF' 'CAN' 'CHE' 'CHL' 'CHN' 'CIV' 'CMR' 'COG' 'COK' 'COL' 'COM'\n",
      " 'CPV' 'CRI' 'CUB' 'CYM' 'CYP' 'CZE' 'DEU' 'DJI' 'DMA' 'DNK' 'DOM' 'DZA'\n",
      " 'ECU' 'EGY' 'ERI' 'ESH' 'ESP' 'EST' 'ETH' 'FIN' 'FJI' 'FLK' 'FRA' 'FRO'\n",
      " 'FSM' 'GAB' 'GBR' 'GEO' 'GHA' 'GIB' 'GIN' 'GLP' 'GMB' 'GNB' 'GNQ' 'GRC'\n",
      " 'GRD' 'GRL' 'GTM' 'GUF' 'GUY' 'HKG' 'HND' 'HRV' 'HTI' 'HUN' 'IDN' 'IND'\n",
      " 'IRL' 'IRN' 'IRQ' 'ISL' 'ISR' 'ITA' 'JAM' 'JOR' 'JPN' 'KAZ' 'KEN' 'KGZ'\n",
      " 'KHM' 'KIR' 'KNA' 'KOR' 'KWT' 'LAO' 'LBN' 'LBR' 'LBY' 'LCA' 'LKA' 'LSO'\n",
      " 'LTU' 'LUX' 'LVA' 'MAR' 'MDA' 'MDG' 'MDV' 'MEX' 'MHL' 'MKD' 'MLI' 'MLT'\n",
      " 'MMR' 'MNG' 'MNP' 'MOZ' 'MRT' 'MTQ' 'MUS' 'MWI' 'MYS' 'NAM' 'NCL' 'NER'\n",
      " 'NFK' 'NGA' 'NIC' 'NIU' 'NLD' 'NOR' 'NPL' 'NRU' 'NZL' 'OMN' 'PAK' 'PAL'\n",
      " 'PAN' 'PER' 'PHL' 'PLW' 'PNG' 'POL' 'PRI' 'PRK' 'PRT' 'PRY' 'PYF' 'QAT'\n",
      " 'REU' 'ROM' 'RUS' 'RWA' 'SAU' 'SDN' 'SEN' 'SGP' 'SHN' 'SLB' 'SLE' 'SLV'\n",
      " 'SMR' 'SOM' 'SPM' 'STP' 'SUR' 'SVK' 'SVN' 'SWE' 'SWZ' 'SYC' 'SYR' 'TCA'\n",
      " 'TCD' 'TGO' 'THA' 'TJK' 'TKL' 'TKM' 'TMP' 'TON' 'TTO' 'TUN' 'TUR' 'TUV'\n",
      " 'TWN' 'TZA' 'UGA' 'UKR' 'URY' 'USA' 'UZB' 'VCT' 'VEN' 'VGB' 'VNM' 'VUT'\n",
      " 'WLF' 'WSM' 'YEM' 'YUG' 'ZAF' 'ZAR' 'ZMB' 'ZWE']\n",
      "\n",
      "按origin统计缺失数量:\n",
      "iso_o\n",
      "CXR    224\n",
      "CCK    224\n",
      "MSR    224\n",
      "MAC    224\n",
      "PCN    224\n",
      "      ... \n",
      "YUG      5\n",
      "ZAF      5\n",
      "ZAR      5\n",
      "ZMB      5\n",
      "ZWE      5\n",
      "Name: count, Length: 224, dtype: int64\n",
      "\n",
      "按destination统计缺失数量:\n",
      "iso_d\n",
      "CCK    224\n",
      "CXR    224\n",
      "MAC    224\n",
      "MSR    224\n",
      "PCN    224\n",
      "      ... \n",
      "YUG      5\n",
      "ZAF      5\n",
      "ZAR      5\n",
      "ZMB      5\n",
      "ZWE      5\n",
      "Name: count, Length: 224, dtype: int64\n",
      "涉及距离缺失的国家代码（iso3）：\n",
      "['ABW', 'AFG', 'AGO', 'AIA', 'ALB', 'AND', 'ANT', 'ARE', 'ARG', 'ARM', 'ATG', 'AUS', 'AUT', 'AZE', 'BDI', 'BEL', 'BEN', 'BFA', 'BGD', 'BGR', 'BHR', 'BHS', 'BIH', 'BLR', 'BLZ', 'BMU', 'BOL', 'BRA', 'BRB', 'BRN', 'BTN', 'BWA', 'CAF', 'CAN', 'CCK', 'CHE', 'CHL', 'CHN', 'CIV', 'CMR', 'COG', 'COK', 'COL', 'COM', 'CPV', 'CRI', 'CUB', 'CXR', 'CYM', 'CYP', 'CZE', 'DEU', 'DJI', 'DMA', 'DNK', 'DOM', 'DZA', 'ECU', 'EGY', 'ERI', 'ESH', 'ESP', 'EST', 'ETH', 'FIN', 'FJI', 'FLK', 'FRA', 'FRO', 'FSM', 'GAB', 'GBR', 'GEO', 'GHA', 'GIB', 'GIN', 'GLP', 'GMB', 'GNB', 'GNQ', 'GRC', 'GRD', 'GRL', 'GTM', 'GUF', 'GUY', 'HKG', 'HND', 'HRV', 'HTI', 'HUN', 'IDN', 'IND', 'IRL', 'IRN', 'IRQ', 'ISL', 'ISR', 'ITA', 'JAM', 'JOR', 'JPN', 'KAZ', 'KEN', 'KGZ', 'KHM', 'KIR', 'KNA', 'KOR', 'KWT', 'LAO', 'LBN', 'LBR', 'LBY', 'LCA', 'LKA', 'LSO', 'LTU', 'LUX', 'LVA', 'MAC', 'MAR', 'MDA', 'MDG', 'MDV', 'MEX', 'MHL', 'MKD', 'MLI', 'MLT', 'MMR', 'MNG', 'MNP', 'MOZ', 'MRT', 'MSR', 'MTQ', 'MUS', 'MWI', 'MYS', 'NAM', 'NCL', 'NER', 'NFK', 'NGA', 'NIC', 'NIU', 'NLD', 'NOR', 'NPL', 'NRU', 'NZL', 'OMN', 'PAK', 'PAL', 'PAN', 'PCN', 'PER', 'PHL', 'PLW', 'PNG', 'POL', 'PRI', 'PRK', 'PRT', 'PRY', 'PYF', 'QAT', 'REU', 'ROM', 'RUS', 'RWA', 'SAU', 'SDN', 'SEN', 'SGP', 'SHN', 'SLB', 'SLE', 'SLV', 'SMR', 'SOM', 'SPM', 'STP', 'SUR', 'SVK', 'SVN', 'SWE', 'SWZ', 'SYC', 'SYR', 'TCA', 'TCD', 'TGO', 'THA', 'TJK', 'TKL', 'TKM', 'TMP', 'TON', 'TTO', 'TUN', 'TUR', 'TUV', 'TWN', 'TZA', 'UGA', 'UKR', 'URY', 'USA', 'UZB', 'VCT', 'VEN', 'VGB', 'VNM', 'VUT', 'WLF', 'WSM', 'YEM', 'YUG', 'ZAF', 'ZAR', 'ZMB', 'ZWE']\n"
     ]
    }
   ],
   "source": [
    "# 找出distw缺失的行\n",
    "missing_distw = df_dist[df_dist['distw'].isnull()]\n",
    "print(\"缺失距离的记录数:\", len(missing_distw))\n",
    "print(\"缺失距离的前几行:\\n\", missing_distw.head())\n",
    "\n",
    "# 查看涉及的国家对\n",
    "print(\"\\n涉及的origin国家代码:\", missing_distw['iso_o'].unique())\n",
    "print(\"涉及的destination国家代码:\", missing_distw['iso_d'].unique())\n",
    "\n",
    "# 按origin和destination统计缺失数量\n",
    "print(\"\\n按origin统计缺失数量:\")\n",
    "print(missing_distw['iso_o'].value_counts())\n",
    "\n",
    "print(\"\\n按destination统计缺失数量:\")\n",
    "print(missing_distw['iso_d'].value_counts())\n",
    "\n",
    "# 列出所有涉及的国家代码（去重）\n",
    "origin_missing = set(missing_distw['iso_o'].unique())\n",
    "dest_missing = set(missing_distw['iso_d'].unique())\n",
    "all_missing = origin_missing.union(dest_missing)\n",
    "\n",
    "print(\"涉及距离缺失的国家代码（iso3）：\")\n",
    "print(sorted(all_missing))"
   ]
  },
  {
   "cell_type": "markdown",
   "id": "4b581cdf",
   "metadata": {},
   "source": [
    "现在可以使用这些数据进行市场准入分析了。你可以将GDP数据与迁移流数据结合，或者使用CEPII距离数据来分析不同国家之间的市场接入情况。根据你的研究目标，可以进一步探索这些数据的相关性和影响因素。"
   ]
  },
  {
   "cell_type": "code",
   "execution_count": 13,
   "id": "1842e968",
   "metadata": {},
   "outputs": [
    {
     "name": "stdout",
     "output_type": "stream",
     "text": [
      "GDP表国家数: 266\n",
      "距离表国家数: 224\n",
      "迁移流表国家数: 180\n",
      "三表国家代码是否完全一致: False\n",
      "\n",
      "GDP缺失值数量: 36\n",
      "距离缺失值数量: 2215\n",
      "迁移流缺失值数量: 0\n",
      "\n",
      "GDP数据类型: float64\n",
      "距离数据类型: float64\n",
      "\n",
      "GDP表重复行数: 0\n",
      "距离表重复国家对数: 0\n",
      "迁移流表重复行数: 0\n"
     ]
    }
   ],
   "source": [
    "import pandas as pd\n",
    "\n",
    "# 1. 国家代码统一\n",
    "gdp = pd.read_csv('../data/processed/gdp_country_year_2019_2022_cleaned.csv')\n",
    "dist = pd.read_csv('../data/processed/dist_cepii_cleaned.csv')\n",
    "mig = pd.read_csv('../data/processed/migration_flow_cleaned.csv')\n",
    "\n",
    "gdp_iso3 = set(gdp['iso3'].unique())\n",
    "dist_iso3 = set(dist['iso_o'].unique()).union(set(dist['iso_d'].unique()))\n",
    "mig_iso3 = set(mig['origin'].unique()).union(set(mig['destination'].unique()))\n",
    "\n",
    "print(\"GDP表国家数:\", len(gdp_iso3))\n",
    "print(\"距离表国家数:\", len(dist_iso3))\n",
    "print(\"迁移流表国家数:\", len(mig_iso3))\n",
    "print(\"三表国家代码是否完全一致:\", gdp_iso3 == dist_iso3 == mig_iso3)\n",
    "\n",
    "# 2. 缺失值处理\n",
    "print(\"\\nGDP缺失值数量:\", gdp['gdp'].isnull().sum())\n",
    "print(\"距离缺失值数量:\", dist['distw'].isnull().sum())\n",
    "print(\"迁移流缺失值数量:\", mig.isnull().sum().sum())\n",
    "\n",
    "# 3. 数据类型正确\n",
    "print(\"\\nGDP数据类型:\", gdp['gdp'].dtype)\n",
    "print(\"距离数据类型:\", dist['distw'].dtype)\n",
    "\n",
    "# 4. 无重复行\n",
    "gdp_dup = gdp.duplicated(subset=['iso3', 'year']).sum()\n",
    "dist_dup = dist.duplicated(subset=['iso_o', 'iso_d']).sum()\n",
    "mig_dup = mig.duplicated(subset=['origin', 'destination', 'migration_month']).sum()\n",
    "print(f\"\\nGDP表重复行数: {gdp_dup}\")\n",
    "print(f\"距离表重复国家对数: {dist_dup}\")\n",
    "print(f\"迁移流表重复行数: {mig_dup}\")"
   ]
  },
  {
   "cell_type": "code",
   "execution_count": 14,
   "id": "5459dce4",
   "metadata": {},
   "outputs": [
    {
     "name": "stdout",
     "output_type": "stream",
     "text": [
      "GDP表独有国家: ['AFE', 'AFW', 'ARB', 'ASM', 'CEB', 'CHI', 'CSS', 'CUW', 'EAP', 'EAR', 'EAS', 'ECA', 'ECS', 'EMU', 'EUU', 'FCS', 'GUM', 'HIC', 'HPC', 'IBD', 'IBT', 'IDA', 'IDB', 'IDX', 'IMN', 'INX', 'LAC', 'LCN', 'LDC', 'LIC', 'LIE', 'LMC', 'LMY', 'LTE', 'MAF', 'MCO', 'MEA', 'MIC', 'MNA', 'NAC', 'OED', 'OSS', 'PRE', 'PSE', 'PSS', 'PST', 'SAS', 'SSA', 'SSF', 'SST', 'SXM', 'TEA', 'TEC', 'TLA', 'TMN', 'TSA', 'TSS', 'UMC', 'VIR', 'WLD']\n",
      "距离表独有国家: ['AIA', 'ANT', 'CCK', 'COK', 'CXR', 'ESH', 'FLK', 'GLP', 'GUF', 'MSR', 'MTQ', 'NFK', 'NIU', 'PAL', 'PCN', 'REU', 'ROM', 'SHN', 'SPM', 'TKL', 'TMP', 'WLF', 'YUG', 'ZAR']\n",
      "迁移流表独有国家: []\n",
      "三表共同国家数: 172\n",
      "三表共同国家代码: ['AFG', 'AGO', 'ALB', 'AND', 'ARE', 'ARG', 'ARM', 'AUS', 'AUT', 'AZE', 'BDI', 'BEL', 'BEN', 'BFA', 'BGD', 'BGR', 'BHR', 'BHS', 'BIH', 'BLR', 'BLZ', 'BOL', 'BRA', 'BRB', 'BRN', 'BTN', 'BWA', 'CAF', 'CAN', 'CHE', 'CHL', 'CIV', 'CMR', 'COG', 'COL', 'COM', 'CPV', 'CRI', 'CYP', 'CZE', 'DEU', 'DJI', 'DNK', 'DOM', 'DZA', 'ECU', 'EGY', 'ERI', 'ESP', 'EST', 'ETH', 'FIN', 'FJI', 'FRA', 'FSM', 'GAB', 'GBR', 'GEO', 'GHA', 'GIN', 'GMB', 'GNB', 'GNQ', 'GRC', 'GRD', 'GTM', 'GUY', 'HKG', 'HND', 'HRV', 'HTI', 'HUN', 'IDN', 'IND', 'IRL', 'IRQ', 'ISL', 'ISR', 'ITA', 'JAM', 'JOR', 'JPN', 'KAZ', 'KEN', 'KGZ', 'KHM', 'KIR', 'KOR', 'KWT', 'LAO', 'LBN', 'LBR', 'LBY', 'LCA', 'LKA', 'LSO', 'LTU', 'LUX', 'LVA', 'MAC', 'MAR', 'MDA', 'MDG', 'MDV', 'MEX', 'MKD', 'MLI', 'MLT', 'MMR', 'MNG', 'MOZ', 'MRT', 'MUS', 'MWI', 'MYS', 'NER', 'NGA', 'NIC', 'NLD', 'NOR', 'NPL', 'NZL', 'OMN', 'PAK', 'PAN', 'PER', 'PHL', 'PNG', 'POL', 'PRT', 'PRY', 'QAT', 'RUS', 'RWA', 'SAU', 'SDN', 'SEN', 'SGP', 'SLB', 'SLE', 'SLV', 'STP', 'SUR', 'SVK', 'SVN', 'SWE', 'SWZ', 'SYR', 'TCD', 'TGO', 'THA', 'TJK', 'TKM', 'TON', 'TTO', 'TUN', 'TUR', 'TZA', 'UGA', 'UKR', 'URY', 'USA', 'UZB', 'VCT', 'VEN', 'VNM', 'VUT', 'WSM', 'YEM', 'ZAF', 'ZMB', 'ZWE']\n"
     ]
    }
   ],
   "source": [
    "# ...existing code...\n",
    "\n",
    "# 输出三表国家代码差异\n",
    "print(\"GDP表独有国家:\", sorted(gdp_iso3 - dist_iso3 - mig_iso3))\n",
    "print(\"距离表独有国家:\", sorted(dist_iso3 - gdp_iso3 - mig_iso3))\n",
    "print(\"迁移流表独有国家:\", sorted(mig_iso3 - gdp_iso3 - dist_iso3))\n",
    "\n",
    "# 三表共同国家\n",
    "common_iso3 = gdp_iso3 & dist_iso3 & mig_iso3\n",
    "print(\"三表共同国家数:\", len(common_iso3))\n",
    "print(\"三表共同国家代码:\", sorted(common_iso3))\n",
    "# ...existing code..."
   ]
  },
  {
   "cell_type": "code",
   "execution_count": 1,
   "id": "47da6c00",
   "metadata": {},
   "outputs": [
    {
     "name": "stdout",
     "output_type": "stream",
     "text": [
      "  iso3  year            MA\n",
      "0  DZA  2019  2.180975e+08\n",
      "1  GBR  2019  3.970049e+08\n",
      "2  CHN  2019  9.031008e+07\n",
      "3  ABW  2019  8.598458e+07\n",
      "4  BLR  2019  2.514742e+08\n"
     ]
    }
   ],
   "source": [
    "import pandas as pd\n",
    "import numpy as np\n",
    "\n",
    "# 参数设置\n",
    "theta = 1.6  # 距离弹性参数，可调整\n",
    "\n",
    "# 读取数据\n",
    "gdp = pd.read_csv('../data/processed/gdp_country_year_2019_2022_cleaned.csv')\n",
    "dist = pd.read_csv('../data/processed/dist_cepii_cleaned.csv')\n",
    "\n",
    "# 只用三表共同国家\n",
    "common_iso3 = set(gdp['iso3'].unique()) & set(dist['iso_o'].unique()) & set(dist['iso_d'].unique())\n",
    "gdp = gdp[gdp['iso3'].isin(common_iso3)].copy()\n",
    "dist = dist[(dist['iso_o'].isin(common_iso3)) & (dist['iso_d'].isin(common_iso3))].copy()\n",
    "\n",
    "# 构建 MA 面板\n",
    "ma_list = []\n",
    "years = sorted(gdp['year'].unique())\n",
    "for year in years:\n",
    "    gdp_year = gdp[gdp['year'] == year].set_index('iso3')['gdp']\n",
    "    for i in common_iso3:\n",
    "        # 取所有 j≠i\n",
    "        others = [j for j in common_iso3 if j != i]\n",
    "        # 取 i 到 j 的距离\n",
    "        dist_ij = dist[(dist['iso_o'] == i) & (dist['iso_d'].isin(others))]\n",
    "        # 合并 GDP\n",
    "        dist_ij = dist_ij.merge(gdp_year.rename('gdp_j'), left_on='iso_d', right_index=True, how='left')\n",
    "        # 计算 MA 分子\n",
    "        dist_ij['ma_term'] = dist_ij['gdp_j'] / (dist_ij['distw'] ** theta)\n",
    "        # 求和\n",
    "        ma_value = dist_ij['ma_term'].sum()\n",
    "        ma_list.append({'iso3': i, 'year': year, 'MA': ma_value})\n",
    "\n",
    "ma_df = pd.DataFrame(ma_list)\n",
    "print(ma_df.head())\n",
    "ma_df.to_csv('../data/processed/market_access_panel.csv', index=False)"
   ]
  },
  {
   "cell_type": "markdown",
   "id": "264ed469",
   "metadata": {},
   "source": [
    "检验Market Access的结果是否合理"
   ]
  },
  {
   "cell_type": "code",
   "execution_count": 2,
   "id": "8702669e",
   "metadata": {},
   "outputs": [
    {
     "name": "stdout",
     "output_type": "stream",
     "text": [
      "              year            MA\n",
      "count   796.000000  7.960000e+02\n",
      "mean   2020.500000  1.625944e+08\n",
      "std       1.118737  1.679261e+08\n",
      "min    2019.000000  0.000000e+00\n",
      "25%    2019.750000  6.648977e+07\n",
      "50%    2020.500000  1.054174e+08\n",
      "75%    2021.250000  1.808262e+08\n",
      "max    2022.000000  1.131320e+09\n",
      "缺失值数量： iso3    0\n",
      "year    0\n",
      "MA      0\n",
      "dtype: int64\n",
      "      count          mean           std  min           25%           50%  \\\n",
      "year                                                                       \n",
      "2019  199.0  1.545445e+08  1.601139e+08  0.0  6.485415e+07  1.030936e+08   \n",
      "2020  199.0  1.500319e+08  1.573375e+08  0.0  6.216730e+07  9.793916e+07   \n",
      "2021  199.0  1.709500e+08  1.782545e+08  0.0  7.106843e+07  1.113917e+08   \n",
      "2022  199.0  1.748512e+08  1.749654e+08  0.0  7.443571e+07  1.201567e+08   \n",
      "\n",
      "               75%           max  \n",
      "year                              \n",
      "2019  1.635803e+08  1.014846e+09  \n",
      "2020  1.597427e+08  9.997487e+08  \n",
      "2021  1.852937e+08  1.131320e+09  \n",
      "2022  1.930042e+08  1.112047e+09  \n",
      "      count          mean           std           min           25%  \\\n",
      "iso3                                                                  \n",
      "ABW     4.0  8.984118e+07  7.496312e+06  8.210912e+07  8.501572e+07   \n",
      "AFG     4.0  1.264455e+08  1.220025e+07  1.139275e+08  1.175613e+08   \n",
      "AGO     4.0  5.016797e+07  4.085267e+06  4.577921e+07  4.732436e+07   \n",
      "ALB     4.0  3.002153e+08  2.057812e+07  2.779926e+08  2.850897e+08   \n",
      "AND     4.0  4.443320e+08  2.633693e+07  4.148384e+08  4.259463e+08   \n",
      "...     ...           ...           ...           ...           ...   \n",
      "WSM     4.0  3.401351e+07  2.721671e+06  3.136725e+07  3.188899e+07   \n",
      "YEM     4.0  9.476805e+07  9.914719e+06  8.454585e+07  8.800901e+07   \n",
      "ZAF     4.0  3.695468e+07  3.172583e+06  3.363238e+07  3.471594e+07   \n",
      "ZMB     4.0  5.005968e+07  4.299011e+06  4.553440e+07  4.703057e+07   \n",
      "ZWE     4.0  4.842839e+07  4.208760e+06  4.381627e+07  4.557657e+07   \n",
      "\n",
      "               50%           75%           max  \n",
      "iso3                                            \n",
      "ABW   8.898050e+07  9.380596e+07  9.929458e+07  \n",
      "AFG   1.258154e+08  1.346996e+08  1.402237e+08  \n",
      "AGO   5.008892e+07  5.293252e+07  5.471484e+07  \n",
      "ALB   3.021031e+08  3.172286e+08  3.186624e+08  \n",
      "AND   4.464675e+08  4.648532e+08  4.695545e+08  \n",
      "...            ...           ...           ...  \n",
      "WSM   3.386157e+07  3.598609e+07  3.696363e+07  \n",
      "YEM   9.386833e+07  1.006274e+08  1.067897e+08  \n",
      "ZAF   3.680183e+07  3.904056e+07  4.058267e+07  \n",
      "ZMB   4.988087e+07  5.290998e+07  5.494256e+07  \n",
      "ZWE   4.839357e+07  5.124540e+07  5.311016e+07  \n",
      "\n",
      "[199 rows x 8 columns]\n"
     ]
    },
    {
     "data": {
      "image/png": "[encoded data removed]",
      "text/plain": [
       "<Figure size 640x480 with 1 Axes>"
      ]
     },
     "metadata": {},
     "output_type": "display_data"
    },
    {
     "data": {
      "image/png": "[encoded data removed]",
      "text/plain": [
       "<Figure size 640x480 with 1 Axes>"
      ]
     },
     "metadata": {},
     "output_type": "display_data"
    }
   ],
   "source": [
    "import pandas as pd\n",
    "import matplotlib.pyplot as plt\n",
    "\n",
    "ma_df = pd.read_csv('../data/processed/market_access_panel.csv')\n",
    "\n",
    "# 1. 基本统计\n",
    "print(ma_df.describe())\n",
    "print(\"缺失值数量：\", ma_df.isnull().sum())\n",
    "\n",
    "# 2. 按国家和年份分组\n",
    "print(ma_df.groupby('year')['MA'].describe())\n",
    "print(ma_df.groupby('iso3')['MA'].describe())\n",
    "\n",
    "# 3. 可视化：选几个国家画 MA 随年份变化\n",
    "sample_countries = ma_df['iso3'].unique()[:5]\n",
    "for c in sample_countries:\n",
    "    plt.plot(ma_df[ma_df['iso3'] == c]['year'], ma_df[ma_df['iso3'] == c]['MA'], label=c)\n",
    "plt.xlabel('Year')\n",
    "plt.ylabel('Market Access')\n",
    "plt.title('MA by Country over Years')\n",
    "plt.legend()\n",
    "plt.show()\n",
    "\n",
    "# 4. 某一年 MA 分布直方图\n",
    "ma_2019 = ma_df[ma_df['year'] == 2019]['MA']\n",
    "plt.hist(ma_2019, bins=20)\n",
    "plt.xlabel('Market Access')\n",
    "plt.ylabel('Count')\n",
    "plt.title('MA Distribution in 2019')\n",
    "plt.show()"
   ]
  },
  {
   "cell_type": "code",
   "execution_count": 7,
   "id": "af7e20b0",
   "metadata": {},
   "outputs": [
    {
     "data": {
      "image/png": "[encoded data removed]",
      "text/plain": [
       "<Figure size 640x480 with 1 Axes>"
      ]
     },
     "metadata": {},
     "output_type": "display_data"
    }
   ],
   "source": [
    "import geopandas as gpd\n",
    "import matplotlib.pyplot as plt\n",
    "\n",
    "# 推荐用原始字符串 r'' 或双斜杠，避免 Windows 路径 unicode 错误\n",
    "shp_path = r'E:\\UNU-MERIT\\Thesis\\ClimateMobility\\climate-migration-model\\data\\raw\\ne_50m_admin_0_countries\\ne_50m_admin_0_countries.shp'\n",
    "world = gpd.read_file(shp_path)  # Natural Earth\n",
    "ma = pd.read_csv('../data/processed/market_access_panel.csv')\n",
    "latest_year = ma['year'].max()\n",
    "ma_latest = ma[ma['year'] == latest_year]\n",
    "\n",
    "world = world.merge(ma_latest, left_on='ISO_A3', right_on='iso3', how='left')\n",
    "world.plot(column='MA', cmap='OrRd', legend=False)\n",
    "plt.title(f'Market Access in {latest_year}')\n",
    "plt.show()"
   ]
  },
  {
   "cell_type": "code",
   "execution_count": 15,
   "id": "e901f6cb",
   "metadata": {},
   "outputs": [
    {
     "name": "stdout",
     "output_type": "stream",
     "text": [
      "MA 与本国 GDP 的相关性（Pearson）：\n",
      "           MA       gdp\n",
      "MA   1.000000  0.015072\n",
      "gdp  0.015072  1.000000\n",
      "MA 与本国 GDP 的相关性（Spearman）：\n",
      "          MA      gdp\n",
      "MA   1.00000  0.40799\n",
      "gdp  0.40799  1.00000\n",
      "MA 与迁移流出量的相关性（Pearson）：\n",
      "           MA     flow\n",
      "MA    1.00000 -0.03661\n",
      "flow -0.03661  1.00000\n",
      "MA 与迁移流出量的相关性（Spearman）：\n",
      "            MA      flow\n",
      "MA    1.000000  0.259666\n",
      "flow  0.259666  1.000000\n",
      "MA 与迁移流出量的相关性（Pearson）：\n",
      "           MA     flow\n",
      "MA    1.00000 -0.03661\n",
      "flow -0.03661  1.00000\n",
      "MA 与迁移流出量的相关性（Spearman）：\n",
      "            MA      flow\n",
      "MA    1.000000  0.259666\n",
      "flow  0.259666  1.000000\n"
     ]
    }
   ],
   "source": [
    "import pandas as pd\n",
    "\n",
    "# MA 与 GDP 的相关性\n",
    "ma = pd.read_csv(r'../data/processed/market_access_panel.csv')\n",
    "gdp = pd.read_csv(r'../data/processed/gdp_country_year_2019_2022_cleaned.csv')\n",
    "merged = ma.merge(gdp, on=['iso3', 'year'])\n",
    "print(\"MA 与本国 GDP 的相关性（Pearson）：\")\n",
    "print(merged[['MA', 'gdp']].corr(method='pearson'))\n",
    "print(\"MA 与本国 GDP 的相关性（Spearman）：\")\n",
    "print(merged[['MA', 'gdp']].corr(method='spearman'))\n",
    "\n",
    "# MA 与迁移总流出量的相关性\n",
    "migration = pd.read_csv(r'../data/processed/migration_flow_cleaned.csv')\n",
    "migration_total = migration.groupby(['origin', 'year'])['flow'].sum().reset_index()\n",
    "migration_total.rename(columns={'origin': 'iso3'}, inplace=True)\n",
    "\n",
    "merged2 = ma.merge(migration_total, on=['iso3', 'year'], how='left')\n",
    "print(\"MA 与迁移流出量的相关性（Pearson）：\")\n",
    "print(merged2[['MA', 'flow']].corr(method='pearson'))\n",
    "print(\"MA 与迁移流出量的相关性（Spearman）：\")\n",
    "print(merged2[['MA', 'flow']].corr(method='spearman'))"
   ]
  },
  {
   "cell_type": "markdown",
   "id": "f0fa8cf7",
   "metadata": {},
   "source": [
    "以上内容基本上可以判断，计算出的Market access是有意义的，可以进行下一步的回归模型搭建了"
   ]
  }
 ],
 "metadata": {
  "kernelspec": {
   "display_name": "Python 3",
   "language": "python",
   "name": "python3"
  },
  "language_info": {
   "codemirror_mode": {
    "name": "ipython",
    "version": 3
   },
   "file_extension": ".py",
   "mimetype": "text/x-python",
   "name": "python",
   "nbconvert_exporter": "python",
   "pygments_lexer": "ipython3",
   "version": "3.11.8"
  }
 },
 "nbformat": 4,
 "nbformat_minor": 5
}
