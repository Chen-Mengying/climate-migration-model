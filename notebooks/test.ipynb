{
 "cells": [
  {
   "cell_type": "code",
   "execution_count": 1,
   "id": "4faf3855",
   "metadata": {},
   "outputs": [],
   "source": [
    "import pandas as pd\n",
    "\n",
    "# 读取数据\n",
    "mig = pd.read_csv('../data/processed/migration_flow_cleaned.csv')\n",
    "spei = pd.read_csv('../data/processed/spei03_country_month_cleaned.csv')"
   ]
  },
  {
   "cell_type": "code",
   "execution_count": 2,
   "id": "93db810f",
   "metadata": {},
   "outputs": [
    {
     "name": "stdout",
     "output_type": "stream",
     "text": [
      "迁移数据主键字段类型：\n",
      " origin_iso3          object\n",
      "destination_iso3     object\n",
      "migration_month      object\n",
      "year                  int64\n",
      "month                 int64\n",
      "flow                  int64\n",
      "log_flow            float64\n",
      "origin_iso2          object\n",
      "destination_iso2     object\n",
      "dtype: object\n",
      "\n",
      "SPEI数据主键字段类型：\n",
      " country     object\n",
      "ISO_A3      object\n",
      "date        object\n",
      "spei       float64\n",
      "dtype: object\n"
     ]
    }
   ],
   "source": [
    "# 检查主键字段类型\n",
    "print(\"迁移数据主键字段类型：\\n\", mig.dtypes)\n",
    "print(\"\\nSPEI数据主键字段类型：\\n\", spei.dtypes)\n"
   ]
  },
  {
   "cell_type": "code",
   "execution_count": 3,
   "id": "7b86add1",
   "metadata": {},
   "outputs": [
    {
     "name": "stdout",
     "output_type": "stream",
     "text": [
      "以下国家在SPEI数据中缺失： {'SGP', 'MDV', 'MLT', 'STP', 'KIR', 'TON', 'LCA', 'MAC', 'HKG', 'GRD', 'AND', 'BRB', 'FSM', 'BHR'}\n"
     ]
    }
   ],
   "source": [
    "# 检查国家代码格式\n",
    "assert all(mig['origin_iso3'].str.len() == 3)\n",
    "assert all(spei['ISO_A3'].str.len() == 3)\n",
    "\n",
    "# 找出在mig中但不在spei中的国家代码\n",
    "missing_codes = set(mig['origin_iso3']) - set(spei['ISO_A3'])\n",
    "print(\"以下国家在SPEI数据中缺失：\", missing_codes)"
   ]
  },
  {
   "cell_type": "code",
   "execution_count": 4,
   "id": "c83dbd9f",
   "metadata": {},
   "outputs": [
    {
     "name": "stdout",
     "output_type": "stream",
     "text": [
      "属于spei_missing_countries的： ['SGP', 'MDV', 'STP', 'MLT', 'TON', 'LCA', 'MAC', 'HKG', 'GRD', 'AND', 'BRB', 'FSM', 'BHR']\n",
      "不属于spei_missing_countries的： ['KIR']\n"
     ]
    }
   ],
   "source": [
    "# 1. 读取或获取missing_countries_gdf\n",
    "missing_countries_gdf = pd.read_csv('../data/processed/spei_missing_countries.csv')  # 或直接用变量\n",
    "\n",
    "# 2. 检查missing_codes哪些在missing_countries_gdf里\n",
    "missing_codes = {'GRD', 'STP', 'LCA', 'SGP', 'MAC', 'TON', 'MLT', 'MDV', 'BRB', 'HKG', 'AND', 'BHR', 'FSM', 'KIR'}\n",
    "\n",
    "# 属于spei_missing_countries的\n",
    "in_missing = [code for code in missing_codes if code in set(missing_countries_gdf['ISO_A3'])]\n",
    "print(\"属于spei_missing_countries的：\", in_missing)\n",
    "\n",
    "# 不属于spei_missing_countries的\n",
    "not_in_missing = [code for code in missing_codes if code not in set(missing_countries_gdf['ISO_A3'])]\n",
    "print(\"不属于spei_missing_countries的：\", not_in_missing)"
   ]
  },
  {
   "cell_type": "markdown",
   "id": "2535b7c2",
   "metadata": {},
   "source": [
    "检查了一下，除了KIR，其他都是因为国家太小，没有spei网格点数。"
   ]
  },
  {
   "cell_type": "code",
   "execution_count": 5,
   "id": "90968036",
   "metadata": {},
   "outputs": [
    {
     "name": "stdout",
     "output_type": "stream",
     "text": [
      "origin_iso3         0\n",
      "destination_iso3    0\n",
      "migration_month     0\n",
      "year                0\n",
      "month               0\n",
      "flow                0\n",
      "log_flow            0\n",
      "origin_iso2         0\n",
      "destination_iso2    0\n",
      "dtype: int64\n",
      "country    0\n",
      "ISO_A3     0\n",
      "date       0\n",
      "spei       0\n",
      "dtype: int64\n"
     ]
    }
   ],
   "source": [
    "# 检查缺失值\n",
    "print(mig.isnull().sum())\n",
    "print(spei.isnull().sum())"
   ]
  },
  {
   "cell_type": "code",
   "execution_count": 6,
   "id": "c22287f8",
   "metadata": {},
   "outputs": [
    {
     "name": "stdout",
     "output_type": "stream",
     "text": [
      "0\n",
      "0\n"
     ]
    }
   ],
   "source": [
    "# 检查重复\n",
    "print(mig.duplicated(subset=['origin_iso3', 'destination_iso3', 'year', 'month']).sum())\n",
    "print(spei.duplicated(subset=['ISO_A3', 'date']).sum())"
   ]
  },
  {
   "cell_type": "code",
   "execution_count": 7,
   "id": "bd02f3b9",
   "metadata": {},
   "outputs": [],
   "source": [
    "# 检查主键唯一性\n",
    "assert mig.duplicated(subset=['origin_iso3', 'destination_iso3', 'year', 'month']).sum() == 0\n",
    "assert spei.duplicated(subset=['ISO_A3', 'date']).sum() == 0"
   ]
  },
  {
   "cell_type": "code",
   "execution_count": 8,
   "id": "2db7f597",
   "metadata": {},
   "outputs": [
    {
     "name": "stdout",
     "output_type": "stream",
     "text": [
      "  origin_iso3 destination_iso3  year  month migration_date  flow  log_flow  \\\n",
      "0         AND              ARE  2019      1     2019-01-01    12  2.564949   \n",
      "1         AND              ARE  2019      2     2019-02-01     2  1.098612   \n",
      "2         AND              ARE  2019      3     2019-03-01     1  0.693147   \n",
      "3         AND              ARE  2019      4     2019-04-01     7  2.079442   \n",
      "4         AND              ARE  2019      5     2019-05-01     0  0.000000   \n",
      "\n",
      "   origin_spei  \n",
      "0          NaN  \n",
      "1          NaN  \n",
      "2          NaN  \n",
      "3          NaN  \n",
      "4          NaN  \n",
      "合并后缺失值统计：\n",
      " origin_iso3              0\n",
      "destination_iso3         0\n",
      "year                     0\n",
      "month                    0\n",
      "migration_date           0\n",
      "flow                     0\n",
      "log_flow                 0\n",
      "origin_spei         120288\n",
      "dtype: int64\n"
     ]
    }
   ],
   "source": [
    "# 处理 SPEI 字段\n",
    "spei['date'] = pd.to_datetime(spei['date'])\n",
    "spei['year'] = spei['date'].dt.year\n",
    "spei['month'] = spei['date'].dt.month\n",
    "spei = spei.rename(columns={'ISO_A3': 'origin_iso3','spei':'origin_spei'})\n",
    "spei = spei[['origin_iso3', 'year', 'month', 'origin_spei']]\n",
    "\n",
    "# 处理mig字段\n",
    "mig = mig.rename(columns={'migration_month':'migration_date'})\n",
    "mig = mig[['origin_iso3', 'destination_iso3', 'year', 'month', 'migration_date','flow','log_flow']]\n",
    "\n",
    "# 合并\n",
    "mig_spei = mig.merge(spei, on=['origin_iso3', 'year', 'month'], how='left')\n",
    "\n",
    "# 检查合并效果\n",
    "print(mig_spei.head())\n",
    "print(\"合并后缺失值统计：\\n\", mig_spei.isnull().sum())"
   ]
  },
  {
   "cell_type": "code",
   "execution_count": 9,
   "id": "53de89c2",
   "metadata": {},
   "outputs": [
    {
     "name": "stdout",
     "output_type": "stream",
     "text": [
      "已保存 migration_spei.csv\n"
     ]
    }
   ],
   "source": [
    "# 保存\n",
    "mig_spei.to_csv('../data/processed/migration_spei.csv', index=False)\n",
    "print(\"已保存 migration_spei.csv\")"
   ]
  },
  {
   "cell_type": "markdown",
   "id": "64812454",
   "metadata": {},
   "source": [
    "现在合并MA(origin)"
   ]
  },
  {
   "cell_type": "code",
   "execution_count": 10,
   "id": "599cb6f3",
   "metadata": {},
   "outputs": [
    {
     "name": "stdout",
     "output_type": "stream",
     "text": [
      "MA 数据主键字段类型：\n",
      " iso3     object\n",
      "year      int64\n",
      "MA      float64\n",
      "dtype: object\n"
     ]
    }
   ],
   "source": [
    "# 检查 MA 数据主键字段类型\n",
    "ma = pd.read_csv('../data/processed/market_access_panel.csv')\n",
    "print(\"MA 数据主键字段类型：\\n\", ma.dtypes)"
   ]
  },
  {
   "cell_type": "code",
   "execution_count": 11,
   "id": "b025126c",
   "metadata": {},
   "outputs": [
    {
     "name": "stdout",
     "output_type": "stream",
     "text": [
      "MA 数据缺失值统计：\n",
      " iso3    0\n",
      "year    0\n",
      "MA      0\n",
      "dtype: int64\n"
     ]
    }
   ],
   "source": [
    "# 检查 MA 数据缺失值\n",
    "print(\"MA 数据缺失值统计：\\n\", ma.isnull().sum())"
   ]
  },
  {
   "cell_type": "code",
   "execution_count": 12,
   "id": "67b03481",
   "metadata": {},
   "outputs": [
    {
     "name": "stdout",
     "output_type": "stream",
     "text": [
      "MA 数据包含 199 个国家，共 796 条数据。\n",
      "migration_spei 数据包含 180 个国家，共 1545874 条数据。\n",
      "mig 数据包含 180 个国家，共 1545874 条数据。\n"
     ]
    }
   ],
   "source": [
    "# 1. 统计 MA 数据\n",
    "ma_countries = ma['iso3'].nunique()  # MA 数据中的国家数量\n",
    "ma_rows = len(ma)  # MA 数据的总行数\n",
    "print(f\"MA 数据包含 {ma_countries} 个国家，共 {ma_rows} 条数据。\")\n",
    "\n",
    "# 2. 统计 migration_spei 数据\n",
    "mig_spei_countries = mig_spei['origin_iso3'].nunique()  # migration_spei 中的国家数量\n",
    "mig_spei_rows = len(mig_spei)  # migration_spei 的总行数\n",
    "print(f\"migration_spei 数据包含 {mig_spei_countries} 个国家，共 {mig_spei_rows} 条数据。\")\n",
    "\n",
    "# 3. 统计 mig 数据\n",
    "mig_countries = mig['origin_iso3'].nunique()  # mig 数据中的国家数量\n",
    "mig_rows = len(mig)  # mig 数据的总行数\n",
    "print(f\"mig 数据包含 {mig_countries} 个国家，共 {mig_rows} 条数据。\")"
   ]
  },
  {
   "cell_type": "code",
   "execution_count": 13,
   "id": "ae10bdb2",
   "metadata": {},
   "outputs": [
    {
     "name": "stdout",
     "output_type": "stream",
     "text": [
      "以下国家在 MA 数据中缺失： {'XKX', 'TLS', 'SSD', 'TWN', 'ROU', 'COD', 'MNE', 'SRB'}\n"
     ]
    }
   ],
   "source": [
    "# 检查 MA 数据与迁移数据的国家代码一致性\n",
    "ma_countries = set(ma['iso3'])\n",
    "mig_countries = set(mig['origin_iso3'])\n",
    "missing_in_ma = mig_countries - ma_countries\n",
    "print(\"以下国家在 MA 数据中缺失：\", missing_in_ma)"
   ]
  },
  {
   "cell_type": "code",
   "execution_count": 14,
   "id": "60bdc332",
   "metadata": {},
   "outputs": [
    {
     "name": "stdout",
     "output_type": "stream",
     "text": [
      "仅在 migration_spei 中的国家数量：8\n",
      "仅在 MA 数据中的国家数量：27\n",
      "仅在 migration_spei 中的国家： {'XKX', 'TLS', 'SSD', 'TWN', 'ROU', 'COD', 'MNE', 'SRB'}\n",
      "仅在 MA 数据中的国家： {'GIB', 'SMR', 'MHL', 'NCL', 'CHN', 'CUB', 'ABW', 'BMU', 'SYC', 'VGB', 'DMA', 'PRI', 'SOM', 'IRN', 'GRL', 'TCA', 'PLW', 'CYM', 'TUV', 'FRO', 'NRU', 'PRK', 'NAM', 'ATG', 'PYF', 'KNA', 'MNP'}\n"
     ]
    }
   ],
   "source": [
    "# 获取 migration_spei 和 MA 数据中的国家代码集合\n",
    "mig_spei_countries = set(mig_spei['origin_iso3'])\n",
    "ma_countries = set(ma['iso3'])\n",
    "\n",
    "# 找出独有的国家\n",
    "only_in_mig_spei = mig_spei_countries - ma_countries\n",
    "only_in_ma = ma_countries - mig_spei_countries\n",
    "\n",
    "# 打印数量\n",
    "print(f\"仅在 migration_spei 中的国家数量：{len(only_in_mig_spei)}\")\n",
    "print(f\"仅在 MA 数据中的国家数量：{len(only_in_ma)}\")\n",
    "\n",
    "# 打印名字\n",
    "print(\"仅在 migration_spei 中的国家：\", only_in_mig_spei)\n",
    "print(\"仅在 MA 数据中的国家：\", only_in_ma)"
   ]
  },
  {
   "cell_type": "markdown",
   "id": "c5c60704",
   "metadata": {},
   "source": [
    "对比了之后发现，这是因为计算MA需要的dist_cepii文件缺少这些国家，合并之后直接剔除比较好"
   ]
  },
  {
   "cell_type": "code",
   "execution_count": null,
   "id": "34ab677d",
   "metadata": {},
   "outputs": [
    {
     "name": "stdout",
     "output_type": "stream",
     "text": [
      "  origin_iso3 destination_iso3  year  month migration_date  flow  log_flow  \\\n",
      "0         AND              ARE  2019      1     2019-01-01    12  2.564949   \n",
      "1         AND              ARE  2019      2     2019-02-01     2  1.098612   \n",
      "2         AND              ARE  2019      3     2019-03-01     1  0.693147   \n",
      "3         AND              ARE  2019      4     2019-04-01     7  2.079442   \n",
      "4         AND              ARE  2019      5     2019-05-01     0  0.000000   \n",
      "\n",
      "   origin_spei     origin_ma  \n",
      "0          NaN  4.296489e+08  \n",
      "1          NaN  4.296489e+08  \n",
      "2          NaN  4.296489e+08  \n",
      "3          NaN  4.296489e+08  \n",
      "4          NaN  4.296489e+08  \n",
      "合并后缺失值统计：\n",
      " origin_iso3              0\n",
      "destination_iso3         0\n",
      "year                     0\n",
      "month                    0\n",
      "migration_date           0\n",
      "flow                     0\n",
      "log_flow                 0\n",
      "origin_spei         120288\n",
      "origin_ma            68600\n",
      "dtype: int64\n",
      "已保存 migration_spei_ma.csv\n"
     ]
    }
   ],
   "source": [
    "# 重命名 MA 数据的列，确保字段一致\n",
    "ma = ma.rename(columns={'iso3': 'origin_iso3', 'MA': 'origin_ma'})\n",
    "\n",
    "# 扩展 MA 数据到每月\n",
    "ma = ma.loc[ma.index.repeat(12)]  # 每年重复 12 次\n",
    "ma['month'] = list(range(1, 13)) * (len(ma) // 12)  # 添加 month 列\n",
    "\n",
    "# 合并 MA 数据到 migration_spei\n",
    "mig_spei_ma = mig_spei.merge(ma, on=['origin_iso3', 'year', 'month'], how='left')\n",
    "\n",
    "# 检查合并效果\n",
    "print(mig_spei_ma.head())\n",
    "print(\"合并后缺失值统计：\\n\", mig_spei_ma.isnull().sum())\n",
    "\n"
   ]
  },
  {
   "cell_type": "code",
   "execution_count": null,
   "id": "66d92639",
   "metadata": {},
   "outputs": [
    {
     "name": "stdout",
     "output_type": "stream",
     "text": [
      "已保存优化后的压缩文件：migration_spei_ma_optimized.csv.gz\n"
     ]
    }
   ],
   "source": [
    "# 保存合并后的数据\n",
    "mig_spei_ma.to_csv('../data/processed/migration_spei_ma.csv', index=False)\n",
    "print(\"已保存 migration_spei_ma.csv\")\n",
    "# 保存为压缩文件\n",
    "mig_spei_ma.to_csv('../data/processed/migration_spei_ma_optimized.csv.gz', index=False, compression='gzip')\n",
    "print(\"已保存优化后的压缩文件：migration_spei_ma_optimized.csv.gz\")"
   ]
  },
  {
   "cell_type": "markdown",
   "id": "4a247c47",
   "metadata": {},
   "source": [
    "ok现在合并边境摩擦"
   ]
  },
  {
   "cell_type": "code",
   "execution_count": 16,
   "id": "b416b6c6",
   "metadata": {},
   "outputs": [
    {
     "name": "stdout",
     "output_type": "stream",
     "text": [
      "Border Friction 数据主键字段类型：\n",
      " iso_o               object\n",
      "iso_d               object\n",
      "contig               int64\n",
      "comlang_off          int64\n",
      "colony               int64\n",
      "border_friction    float64\n",
      "dtype: object\n",
      "Border Friction 数据缺失值统计：\n",
      " iso_o              0\n",
      "iso_d              0\n",
      "contig             0\n",
      "comlang_off        0\n",
      "colony             0\n",
      "border_friction    0\n",
      "dtype: int64\n"
     ]
    }
   ],
   "source": [
    "# 读取 Border Friction 数据\n",
    "bf = pd.read_csv('../data/processed/border_friction_panel_ew.csv')\n",
    "\n",
    "# 检查主键字段类型\n",
    "print(\"Border Friction 数据主键字段类型：\\n\", bf.dtypes)\n",
    "\n",
    "# 检查缺失值\n",
    "print(\"Border Friction 数据缺失值统计：\\n\", bf.isnull().sum())"
   ]
  },
  {
   "cell_type": "code",
   "execution_count": 17,
   "id": "1cea1036",
   "metadata": {},
   "outputs": [
    {
     "name": "stdout",
     "output_type": "stream",
     "text": [
      "               flow      log_flow     origin_ma\n",
      "count  1.545874e+06  1.545874e+06  1.477274e+06\n",
      "mean   7.678771e+01  1.618147e+00  1.683872e+08\n",
      "std    9.029347e+02  1.754999e+00  1.731478e+08\n",
      "min    0.000000e+00  0.000000e+00  0.000000e+00\n",
      "25%    0.000000e+00  0.000000e+00  6.743269e+07\n",
      "50%    3.000000e+00  1.386294e+00  1.096172e+08\n",
      "75%    1.200000e+01  2.564949e+00  1.934012e+08\n",
      "max    1.639370e+05  1.200724e+01  1.131320e+09\n"
     ]
    }
   ],
   "source": [
    "# 检查列的最大值、最小值和小数位数\n",
    "print(mig_spei_ma[['flow', 'log_flow', 'origin_ma']].describe())"
   ]
  }
 ],
 "metadata": {
  "kernelspec": {
   "display_name": "Python 3",
   "language": "python",
   "name": "python3"
  },
  "language_info": {
   "codemirror_mode": {
    "name": "ipython",
    "version": 3
   },
   "file_extension": ".py",
   "mimetype": "text/x-python",
   "name": "python",
   "nbconvert_exporter": "python",
   "pygments_lexer": "ipython3",
   "version": "3.11.8"
  }
 },
 "nbformat": 4,
 "nbformat_minor": 5
}
