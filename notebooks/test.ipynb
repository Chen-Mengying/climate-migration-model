{
 "cells": [
  {
   "cell_type": "code",
   "execution_count": 86,
   "id": "4faf3855",
   "metadata": {},
   "outputs": [],
   "source": [
    "import pandas as pd\n",
    "\n",
    "# 读取数据\n",
    "mig = pd.read_csv('../data/processed/migration_flow_cleaned.csv')\n",
    "spei = pd.read_csv('../data/processed/spei03_country_month_cleaned.csv')"
   ]
  },
  {
   "cell_type": "code",
   "execution_count": 73,
   "id": "93db810f",
   "metadata": {},
   "outputs": [
    {
     "name": "stdout",
     "output_type": "stream",
     "text": [
      "迁移数据主键字段类型：\n",
      " origin_iso3          object\n",
      "destination_iso3     object\n",
      "migration_month      object\n",
      "year                  int64\n",
      "month                 int64\n",
      "flow                  int64\n",
      "log_flow            float64\n",
      "origin_iso2          object\n",
      "destination_iso2     object\n",
      "dtype: object\n",
      "\n",
      "SPEI数据主键字段类型：\n",
      " country     object\n",
      "ISO_A3      object\n",
      "date        object\n",
      "spei       float64\n",
      "dtype: object\n"
     ]
    }
   ],
   "source": [
    "# 检查主键字段类型\n",
    "print(\"迁移数据主键字段类型：\\n\", mig.dtypes)\n",
    "print(\"\\nSPEI数据主键字段类型：\\n\", spei.dtypes)\n"
   ]
  },
  {
   "cell_type": "code",
   "execution_count": null,
   "id": "7b86add1",
   "metadata": {},
   "outputs": [
    {
     "name": "stdout",
     "output_type": "stream",
     "text": [
      "以下国家代码在SPEI数据中缺失： {'GRD', 'STP', 'LCA', 'SGP', 'MAC', 'TON', 'MLT', 'MDV', 'BRB', 'HKG', 'AND', 'BHR', 'FSM', 'KIR'}\n"
     ]
    }
   ],
   "source": [
    "# 检查国家代码格式\n",
    "assert all(mig['origin_iso3'].str.len() == 3)\n",
    "assert all(spei['ISO_A3'].str.len() == 3)\n",
    "\n",
    "# 找出在mig中但不在spei中的国家代码\n",
    "missing_codes = set(mig['origin_iso3']) - set(spei['ISO_A3'])\n",
    "print(\"以下国家在SPEI数据中缺失：\", missing_codes)"
   ]
  },
  {
   "cell_type": "code",
   "execution_count": 68,
   "id": "c83dbd9f",
   "metadata": {},
   "outputs": [
    {
     "name": "stdout",
     "output_type": "stream",
     "text": [
      "属于spei_missing_countries的： ['GRD', 'STP', 'SGP', 'MAC', 'TON', 'MLT', 'BHR', 'MDV', 'BRB', 'AND', 'HKG', 'FSM', 'LCA']\n",
      "不属于spei_missing_countries的： ['KIR']\n"
     ]
    }
   ],
   "source": [
    "# 1. 读取或获取missing_countries_gdf\n",
    "missing_countries_gdf = pd.read_csv('../data/processed/spei_missing_countries.csv')  # 或直接用变量\n",
    "\n",
    "# 2. 检查missing_codes哪些在missing_countries_gdf里\n",
    "missing_codes = {'GRD', 'STP', 'LCA', 'SGP', 'MAC', 'TON', 'MLT', 'MDV', 'BRB', 'HKG', 'AND', 'BHR', 'FSM', 'KIR'}\n",
    "\n",
    "# 属于spei_missing_countries的\n",
    "in_missing = [code for code in missing_codes if code in set(missing_countries_gdf['ISO_A3'])]\n",
    "print(\"属于spei_missing_countries的：\", in_missing)\n",
    "\n",
    "# 不属于spei_missing_countries的\n",
    "not_in_missing = [code for code in missing_codes if code not in set(missing_countries_gdf['ISO_A3'])]\n",
    "print(\"不属于spei_missing_countries的：\", not_in_missing)"
   ]
  },
  {
   "cell_type": "markdown",
   "id": "2535b7c2",
   "metadata": {},
   "source": [
    "检查了一下，除了KIR，其他都是因为国家太小，没有spei网格点数。"
   ]
  },
  {
   "cell_type": "code",
   "execution_count": 76,
   "id": "90968036",
   "metadata": {},
   "outputs": [
    {
     "name": "stdout",
     "output_type": "stream",
     "text": [
      "origin_iso3         0\n",
      "destination_iso3    0\n",
      "migration_month     0\n",
      "year                0\n",
      "month               0\n",
      "flow                0\n",
      "log_flow            0\n",
      "origin_iso2         0\n",
      "destination_iso2    0\n",
      "dtype: int64\n",
      "country    0\n",
      "ISO_A3     0\n",
      "date       0\n",
      "spei       0\n",
      "dtype: int64\n"
     ]
    }
   ],
   "source": [
    "# 检查缺失值\n",
    "print(mig.isnull().sum())\n",
    "print(spei.isnull().sum())"
   ]
  },
  {
   "cell_type": "code",
   "execution_count": 77,
   "id": "c22287f8",
   "metadata": {},
   "outputs": [
    {
     "name": "stdout",
     "output_type": "stream",
     "text": [
      "0\n",
      "0\n"
     ]
    }
   ],
   "source": [
    "# 检查重复\n",
    "print(mig.duplicated(subset=['origin_iso3', 'destination_iso3', 'year', 'month']).sum())\n",
    "print(spei.duplicated(subset=['ISO_A3', 'date']).sum())"
   ]
  },
  {
   "cell_type": "code",
   "execution_count": 78,
   "id": "bd02f3b9",
   "metadata": {},
   "outputs": [],
   "source": [
    "# 检查主键唯一性\n",
    "assert mig.duplicated(subset=['origin_iso3', 'destination_iso3', 'year', 'month']).sum() == 0\n",
    "assert spei.duplicated(subset=['ISO_A3', 'date']).sum() == 0"
   ]
  },
  {
   "cell_type": "code",
   "execution_count": 87,
   "id": "2db7f597",
   "metadata": {},
   "outputs": [
    {
     "name": "stdout",
     "output_type": "stream",
     "text": [
      "  origin_iso3 destination_iso3  year  month migration_date  flow  log_flow  \\\n",
      "0         AND              ARE  2019      1     2019-01-01    12  2.564949   \n",
      "1         AND              ARE  2019      2     2019-02-01     2  1.098612   \n",
      "2         AND              ARE  2019      3     2019-03-01     1  0.693147   \n",
      "3         AND              ARE  2019      4     2019-04-01     7  2.079442   \n",
      "4         AND              ARE  2019      5     2019-05-01     0  0.000000   \n",
      "\n",
      "   origin_spei  \n",
      "0          NaN  \n",
      "1          NaN  \n",
      "2          NaN  \n",
      "3          NaN  \n",
      "4          NaN  \n",
      "合并后缺失值统计：\n",
      " origin_iso3              0\n",
      "destination_iso3         0\n",
      "year                     0\n",
      "month                    0\n",
      "migration_date           0\n",
      "flow                     0\n",
      "log_flow                 0\n",
      "origin_spei         120288\n",
      "dtype: int64\n"
     ]
    }
   ],
   "source": [
    "# 处理 SPEI 字段\n",
    "spei['date'] = pd.to_datetime(spei['date'])\n",
    "spei['year'] = spei['date'].dt.year\n",
    "spei['month'] = spei['date'].dt.month\n",
    "spei = spei.rename(columns={'ISO_A3': 'origin_iso3','spei':'origin_spei'})\n",
    "spei = spei[['origin_iso3', 'year', 'month', 'origin_spei']]\n",
    "\n",
    "# 处理mig字段\n",
    "mig = mig.rename(columns={'migration_month':'migration_date'})\n",
    "mig = mig[['origin_iso3', 'destination_iso3', 'year', 'month', 'migration_date','flow','log_flow']]\n",
    "\n",
    "# 合并\n",
    "mig_spei = mig.merge(spei, on=['origin_iso3', 'year', 'month'], how='left')\n",
    "\n",
    "# 检查合并效果\n",
    "print(mig_spei.head())\n",
    "print(\"合并后缺失值统计：\\n\", mig_spei.isnull().sum())"
   ]
  },
  {
   "cell_type": "code",
   "execution_count": 89,
   "id": "53de89c2",
   "metadata": {},
   "outputs": [
    {
     "name": "stdout",
     "output_type": "stream",
     "text": [
      "已保存 migration_with_spei.csv\n"
     ]
    }
   ],
   "source": [
    "# 保存\n",
    "mig_spei.to_csv('../data/processed/migration_with_spei.csv', index=False)\n",
    "print(\"已保存 migration_with_spei.csv\")"
   ]
  }
 ],
 "metadata": {
  "kernelspec": {
   "display_name": "Python 3",
   "language": "python",
   "name": "python3"
  },
  "language_info": {
   "codemirror_mode": {
    "name": "ipython",
    "version": 3
   },
   "file_extension": ".py",
   "mimetype": "text/x-python",
   "name": "python",
   "nbconvert_exporter": "python",
   "pygments_lexer": "ipython3",
   "version": "3.11.8"
  }
 },
 "nbformat": 4,
 "nbformat_minor": 5
}
